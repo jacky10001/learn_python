{
 "cells": [
  {
   "cell_type": "markdown",
   "metadata": {},
   "source": [
    "# Learn Python"
   ]
  },
  {
   "cell_type": "markdown",
   "metadata": {},
   "source": [
    "### 函式(Function)"
   ]
  },
  {
   "cell_type": "markdown",
   "metadata": {},
   "source": [
    "通常，當發現程式碼片段相似只有參數會變化時，<br>\n",
    "這時可以考慮將程式碼包成函數使用"
   ]
  },
  {
   "cell_type": "markdown",
   "metadata": {},
   "source": [
    "### 運用 Python 來進行銀行戶頭管理"
   ]
  },
  {
   "cell_type": "markdown",
   "metadata": {},
   "source": [
    "### 用變數來測試銀行帳戶功能"
   ]
  },
  {
   "cell_type": "code",
   "execution_count": 1,
   "metadata": {},
   "outputs": [
    {
     "name": "stdout",
     "output_type": "stream",
     "text": [
      " Balance: 2000 \n",
      "\n",
      " Deposit: 200\n",
      " Balance: 2600 \n",
      "\n",
      "Withdraw: 100\n",
      " Balance: 2300 \n",
      "\n"
     ]
    }
   ],
   "source": [
    "account_balance = 2000\n",
    "print(' Balance:', account_balance,'\\n')\n",
    "\n",
    "# Deposit money\n",
    "account_deposit = 200\n",
    "account_balance = account_balance + account_deposit\n",
    "account_deposit = 200\n",
    "account_balance = account_balance + account_deposit\n",
    "account_deposit = 200\n",
    "account_balance = account_balance + account_deposit\n",
    "print(' Deposit:', account_deposit)\n",
    "print(' Balance:', account_balance,'\\n')\n",
    "\n",
    "# Withdraw money\n",
    "account_withdraw = 100\n",
    "account_balance = account_balance - account_withdraw\n",
    "account_withdraw = 100\n",
    "account_balance = account_balance - account_withdraw\n",
    "account_withdraw = 100\n",
    "account_balance = account_balance - account_withdraw\n",
    "print('Withdraw:', account_withdraw)\n",
    "print(' Balance:', account_balance,'\\n')"
   ]
  },
  {
   "cell_type": "markdown",
   "metadata": {},
   "source": [
    "### 使用 function 來實現上述功能"
   ]
  },
  {
   "cell_type": "markdown",
   "metadata": {},
   "source": [
    "<p>\n",
    "def 函數名稱(參數1, 參數2, ...): <br>\n",
    "&nbsp;&nbsp;&nbsp;&nbsp;---------- <br>\n",
    "&nbsp;&nbsp;&nbsp;&nbsp;程式區塊 <br>\n",
    "&nbsp;&nbsp;&nbsp;&nbsp;---------- <br>\n",
    "</p>"
   ]
  },
  {
   "cell_type": "code",
   "execution_count": 2,
   "metadata": {},
   "outputs": [],
   "source": [
    "def account_deposit(balance, deposit):\n",
    "    account_balance = balance + deposit\n",
    "    print(\n",
    "    \"\"\" \n",
    "    Original Balance: {}\n",
    "       Deposit Money: {}\n",
    "     Account Balance: {}\n",
    "    \"\"\".format(balance, deposit, account_balance))\n",
    "    return account_balance\n",
    "\n",
    "def account_withdraw(balance, withdraw):\n",
    "    account_balance = balance - withdraw\n",
    "    print(\n",
    "    \"\"\" \n",
    "    Original Balance: {} \n",
    "      Withdraw Money: {} \n",
    "     Account Balance: {} \n",
    "    \"\"\".format(balance, withdraw, account_balance))\n",
    "    return account_balance"
   ]
  },
  {
   "cell_type": "markdown",
   "metadata": {},
   "source": [
    "<p>\n",
    "def 函數名稱(位置參數1, 位置參數2, 預設參數1, 預設參數2, ...): <br>\n",
    "&nbsp;&nbsp;&nbsp;&nbsp;---------- <br>\n",
    "&nbsp;&nbsp;&nbsp;&nbsp;程式區塊 <br>\n",
    "&nbsp;&nbsp;&nbsp;&nbsp;---------- <br>\n",
    "</p>"
   ]
  },
  {
   "cell_type": "code",
   "execution_count": 3,
   "metadata": {},
   "outputs": [],
   "source": [
    "def create_account(balance=200):\n",
    "    print(\n",
    "    \"\"\"\n",
    "     Account Balance: {}\n",
    "    \"\"\".format(balance))\n",
    "    return balance"
   ]
  },
  {
   "cell_type": "code",
   "execution_count": 4,
   "metadata": {},
   "outputs": [
    {
     "name": "stdout",
     "output_type": "stream",
     "text": [
      "\n",
      "     Account Balance: 200\n",
      "    \n",
      "\n",
      "     Account Balance: 2000\n",
      "    \n"
     ]
    }
   ],
   "source": [
    "balance = create_account()\n",
    "\n",
    "balance = 2000\n",
    "balance = create_account(balance)"
   ]
  },
  {
   "cell_type": "code",
   "execution_count": 5,
   "metadata": {},
   "outputs": [
    {
     "name": "stdout",
     "output_type": "stream",
     "text": [
      " \n",
      "    Original Balance: 2000\n",
      "       Deposit Money: 200\n",
      "     Account Balance: 2200\n",
      "    \n"
     ]
    }
   ],
   "source": [
    "balance = 2000\n",
    "deposit = 200\n",
    "balance = account_deposit(balance, deposit)"
   ]
  },
  {
   "cell_type": "code",
   "execution_count": 6,
   "metadata": {},
   "outputs": [
    {
     "name": "stdout",
     "output_type": "stream",
     "text": [
      " \n",
      "    Original Balance: 2200 \n",
      "      Withdraw Money: 200 \n",
      "     Account Balance: 2000 \n",
      "    \n"
     ]
    }
   ],
   "source": [
    "withdraw = 100  \n",
    "balance = account_withdraw(balance, deposit)"
   ]
  },
  {
   "cell_type": "markdown",
   "metadata": {},
   "source": [
    "# "
   ]
  },
  {
   "cell_type": "markdown",
   "metadata": {},
   "source": [
    "### 運用 Python 來點餐系統"
   ]
  },
  {
   "cell_type": "markdown",
   "metadata": {},
   "source": [
    "### 先建立菜單"
   ]
  },
  {
   "cell_type": "code",
   "execution_count": 7,
   "metadata": {},
   "outputs": [
    {
     "data": {
      "text/plain": [
       "{'沙拉': {'季節鮮果沙拉盅': 70, '番茄海鮮沙拉盅': 70, '焗牛肉鮮蔬溫沙拉': 80, '燻鮭魚捲凱薩沙拉': 80},\n",
       " '前菜': {'醬燒杏鮑菇': 30, '海鮮干貝茶碗蒸': 50},\n",
       " '湯品': {'百合牛肉湯': 80, '蒜香海鮮燉湯': 90, '黑松露佐蕈菇濃湯': 100},\n",
       " '主菜': {'香蒜瓦片牛肉': 180,\n",
       "  '炙烤牛肉雙味': 240,\n",
       "  '美國紐約客牛排': 180,\n",
       "  '嫩煎豚排': 180,\n",
       "  '果香酥烤鴨胸': 280,\n",
       "  '炙燒陶板魚': 180,\n",
       "  '香烤半雞': 190,\n",
       "  '鹽烤鮭魚': 220,\n",
       "  '嫩烤雪花翼板牛排': 380,\n",
       "  '炙烤蒜香羊排': 290},\n",
       " '和食': {'照燒雞肉炸飯糰': 30, '鮭魚茶泡飯': 50},\n",
       " '甜點': {'冷月紫米': 50, '野莓鮮奶酪': 50, '蔓越莓優格起司蛋糕': 60, '抹茶布朗尼佐冰淇淋': 60},\n",
       " '飲品': {'冰拿鐵': 80,\n",
       "  '經典美式咖啡': 50,\n",
       "  '杭菊烏龍茶': 60,\n",
       "  '焦糖醇香奶茶': 70,\n",
       "  '日式玄米鹹奶茶': 70,\n",
       "  '玄米抹茶奶蓋': 70,\n",
       "  '芒果優格飲': 80}}"
      ]
     },
     "execution_count": 7,
     "metadata": {},
     "output_type": "execute_result"
    }
   ],
   "source": [
    "menu = {\n",
    "    '沙拉':{\n",
    "        '季節鮮果沙拉盅': 70,\n",
    "        '番茄海鮮沙拉盅': 70,\n",
    "        '焗牛肉鮮蔬溫沙拉': 80,\n",
    "        '燻鮭魚捲凱薩沙拉': 80\n",
    "    },\n",
    "    '前菜':{\n",
    "        '醬燒杏鮑菇': 30,\n",
    "        '海鮮干貝茶碗蒸': 50,\n",
    "    },\n",
    "    '湯品':{\n",
    "        '百合牛肉湯': 80,\n",
    "        '蒜香海鮮燉湯': 90,\n",
    "        '黑松露佐蕈菇濃湯': 100\n",
    "    },\n",
    "    '主菜':{\n",
    "        '香蒜瓦片牛肉': 180,\n",
    "        '炙烤牛肉雙味': 240,\n",
    "        '美國紐約客牛排': 180,\n",
    "        '嫩煎豚排': 180,\n",
    "        '果香酥烤鴨胸': 280,\n",
    "        '炙燒陶板魚': 180,\n",
    "        '香烤半雞': 190,\n",
    "        '鹽烤鮭魚': 220,\n",
    "        '嫩烤雪花翼板牛排': 380,\n",
    "        '炙烤蒜香羊排': 290\n",
    "    },\n",
    "    '和食':{\n",
    "        '照燒雞肉炸飯糰': 30,\n",
    "        '鮭魚茶泡飯': 50\n",
    "    },\n",
    "    '甜點':{\n",
    "        '冷月紫米': 50,\n",
    "        '野莓鮮奶酪': 50,\n",
    "        '蔓越莓優格起司蛋糕': 60,\n",
    "        '抹茶布朗尼佐冰淇淋': 60\n",
    "    },\n",
    "    '飲品':{\n",
    "        '冰拿鐵': 80,\n",
    "        '經典美式咖啡': 50,\n",
    "        '杭菊烏龍茶': 60,\n",
    "        '焦糖醇香奶茶': 70,\n",
    "        '日式玄米鹹奶茶': 70,\n",
    "        '玄米抹茶奶蓋': 70,\n",
    "        '芒果優格飲': 80\n",
    "    }\n",
    "}\n",
    "menu"
   ]
  },
  {
   "cell_type": "markdown",
   "metadata": {},
   "source": [
    "### 設計點餐功能"
   ]
  },
  {
   "cell_type": "markdown",
   "metadata": {},
   "source": [
    "### 運用 * 來設置 \"額外位置參數\""
   ]
  },
  {
   "cell_type": "markdown",
   "metadata": {},
   "source": [
    "<p>\n",
    "def 函數名稱(位置參數1, 位置參數2, *額外位置參數): <br>\n",
    "&nbsp;&nbsp;&nbsp;&nbsp;---------- <br>\n",
    "&nbsp;&nbsp;&nbsp;&nbsp;額外位置參數將會打包成 tuple 來傳遞 <br>\n",
    "&nbsp;&nbsp;&nbsp;&nbsp; <br>\n",
    "&nbsp;&nbsp;&nbsp;&nbsp;程式區塊 <br>\n",
    "&nbsp;&nbsp;&nbsp;&nbsp;---------- <br>\n",
    "</p>"
   ]
  },
  {
   "cell_type": "code",
   "execution_count": 8,
   "metadata": {},
   "outputs": [
    {
     "name": "stdout",
     "output_type": "stream",
     "text": [
      "section 沙拉 , args --> 將包成tuple來傳遞參數 ('焗牛肉鮮蔬溫沙拉', '焗牛肉鮮蔬溫沙拉', '季節鮮果沙拉盅')\n"
     ]
    }
   ],
   "source": [
    "def order_system(menu, section, *args):\n",
    "    total = 0\n",
    "    print('section',section,', args --> 將包成tuple來傳遞參數',args)\n",
    "    for meal in args:\n",
    "        total += menu[section][meal]\n",
    "    return total\n",
    "\n",
    "sec1_price = order_system(\n",
    "    menu,'沙拉',\n",
    "    '焗牛肉鮮蔬溫沙拉', '焗牛肉鮮蔬溫沙拉', '季節鮮果沙拉盅'\n",
    ")"
   ]
  },
  {
   "cell_type": "code",
   "execution_count": 9,
   "metadata": {},
   "outputs": [
    {
     "name": "stdout",
     "output_type": "stream",
     "text": [
      "section 沙拉 , args --> 將包成tuple來傳遞參數 ('焗牛肉鮮蔬溫沙拉', '焗牛肉鮮蔬溫沙拉', '季節鮮果沙拉盅')\n",
      "section 前菜 , args --> 將包成tuple來傳遞參數 ('醬燒杏鮑菇',)\n",
      "section 湯品 , args --> 將包成tuple來傳遞參數 ('黑松露佐蕈菇濃湯', '蒜香海鮮燉湯')\n",
      "section 主菜 , args --> 將包成tuple來傳遞參數 ('香蒜瓦片牛肉', '嫩烤雪花翼板牛排', '果香酥烤鴨胸', '美國紐約客牛排', '嫩煎豚排', '香烤半雞')\n",
      "section 和食 , args --> 將包成tuple來傳遞參數 ('照燒雞肉炸飯糰', '照燒雞肉炸飯糰', '鮭魚茶泡飯', '照燒雞肉炸飯糰')\n",
      "section 甜點 , args --> 將包成tuple來傳遞參數 ('冷月紫米', '蔓越莓優格起司蛋糕')\n",
      "section 飲品 , args --> 將包成tuple來傳遞參數 ('芒果優格飲', '經典美式咖啡', '經典美式咖啡', '焦糖醇香奶茶')\n",
      "總金額: 2340\n"
     ]
    }
   ],
   "source": [
    "total_price = 0\n",
    "sec1_price = order_system(\n",
    "    menu,'沙拉',\n",
    "    '焗牛肉鮮蔬溫沙拉', '焗牛肉鮮蔬溫沙拉', '季節鮮果沙拉盅'\n",
    ")\n",
    "sec2_price = order_system(\n",
    "    menu,'前菜',\n",
    "    '醬燒杏鮑菇'\n",
    ")\n",
    "sec3_price = order_system(\n",
    "    menu,'湯品',\n",
    "    '黑松露佐蕈菇濃湯', '蒜香海鮮燉湯'\n",
    ")\n",
    "sec4_price = order_system(\n",
    "    menu,'主菜',\n",
    "    '香蒜瓦片牛肉', '嫩烤雪花翼板牛排', '果香酥烤鴨胸', '美國紐約客牛排', '嫩煎豚排', '香烤半雞'\n",
    ")\n",
    "sec5_price = order_system(\n",
    "    menu,'和食',\n",
    "    '照燒雞肉炸飯糰', '照燒雞肉炸飯糰', '鮭魚茶泡飯', '照燒雞肉炸飯糰'\n",
    ")\n",
    "sec6_price = order_system(\n",
    "    menu,'甜點',\n",
    "    '冷月紫米', '蔓越莓優格起司蛋糕'\n",
    ")\n",
    "sec7_price = order_system(\n",
    "    menu,'飲品',\n",
    "    '芒果優格飲', '經典美式咖啡', '經典美式咖啡', '焦糖醇香奶茶'\n",
    ")\n",
    "total_price = sec1_price + sec2_price + sec3_price + sec4_price + sec5_price + sec6_price + sec7_price\n",
    "print('總金額:', total_price)"
   ]
  },
  {
   "cell_type": "markdown",
   "metadata": {},
   "source": [
    "###### "
   ]
  },
  {
   "cell_type": "markdown",
   "metadata": {},
   "source": [
    "### 運用 ** 來設置\"額外指名參數\""
   ]
  },
  {
   "cell_type": "markdown",
   "metadata": {},
   "source": [
    "<p>\n",
    "def 函數名稱(位置參數1, 位置參數2, **額外指名參數): <br>\n",
    "&nbsp;&nbsp;&nbsp;&nbsp;---------- <br>\n",
    "&nbsp;&nbsp;&nbsp;&nbsp;額外指名參數將會打包成 dict 來傳遞 <br>\n",
    "&nbsp;&nbsp;&nbsp;&nbsp; <br>\n",
    "&nbsp;&nbsp;&nbsp;&nbsp;程式區塊 <br>\n",
    "&nbsp;&nbsp;&nbsp;&nbsp;---------- <br>\n",
    "</p>"
   ]
  },
  {
   "cell_type": "code",
   "execution_count": 10,
   "metadata": {},
   "outputs": [],
   "source": [
    "def order_system2(menu, **kwargs):\n",
    "    cvt_section_list = {    # closure (閉包)\n",
    "        'salad':'沙拉', 'appetizer':'前菜', 'soup':'湯品',\n",
    "        'main':'主菜', 'rice':'和食', 'dessert':'甜點', 'drink':'飲品'\n",
    "    }\n",
    "    \n",
    "    def cvt_section(key):    # 內嵌函式\n",
    "        return cvt_section_list[key]\n",
    "    \n",
    "    total_price = 0\n",
    "    for key, val in kwargs.items():\n",
    "        section = cvt_section(key)\n",
    "        print('kwargs的鍵',section,', kwargs的內容', val)\n",
    "        for meal in val:\n",
    "            total_price += menu[section][meal]\n",
    "    \n",
    "    print('總金額:', total_price)\n",
    "    return total_price"
   ]
  },
  {
   "cell_type": "code",
   "execution_count": 11,
   "metadata": {},
   "outputs": [
    {
     "name": "stdout",
     "output_type": "stream",
     "text": [
      "kwargs的鍵 沙拉 , kwargs的內容 ['焗牛肉鮮蔬溫沙拉', '焗牛肉鮮蔬溫沙拉', '季節鮮果沙拉盅']\n",
      "kwargs的鍵 前菜 , kwargs的內容 ['醬燒杏鮑菇']\n",
      "kwargs的鍵 湯品 , kwargs的內容 ['黑松露佐蕈菇濃湯', '蒜香海鮮燉湯']\n",
      "kwargs的鍵 主菜 , kwargs的內容 ['香蒜瓦片牛肉', '嫩烤雪花翼板牛排', '果香酥烤鴨胸', '美國紐約客牛排', '嫩煎豚排', '香烤半雞']\n",
      "kwargs的鍵 和食 , kwargs的內容 ['照燒雞肉炸飯糰', '照燒雞肉炸飯糰', '鮭魚茶泡飯', '照燒雞肉炸飯糰']\n",
      "kwargs的鍵 甜點 , kwargs的內容 ['冷月紫米', '蔓越莓優格起司蛋糕']\n",
      "kwargs的鍵 飲品 , kwargs的內容 ['芒果優格飲', '經典美式咖啡', '經典美式咖啡', '焦糖醇香奶茶']\n",
      "總金額: 2340\n"
     ]
    }
   ],
   "source": [
    "total_price = order_system2(\n",
    "    menu,\n",
    "    salad=['焗牛肉鮮蔬溫沙拉','焗牛肉鮮蔬溫沙拉','季節鮮果沙拉盅'],\n",
    "    appetizer=['醬燒杏鮑菇'],\n",
    "    soup=['黑松露佐蕈菇濃湯','蒜香海鮮燉湯'],\n",
    "    main=['香蒜瓦片牛肉','嫩烤雪花翼板牛排','果香酥烤鴨胸','美國紐約客牛排','嫩煎豚排','香烤半雞'],\n",
    "    rice=['照燒雞肉炸飯糰','照燒雞肉炸飯糰','鮭魚茶泡飯','照燒雞肉炸飯糰'],\n",
    "    dessert=['冷月紫米','蔓越莓優格起司蛋糕'],\n",
    "    drink=['芒果優格飲','經典美式咖啡','經典美式咖啡','焦糖醇香奶茶'],\n",
    ")"
   ]
  },
  {
   "cell_type": "markdown",
   "metadata": {},
   "source": [
    "###### "
   ]
  },
  {
   "cell_type": "markdown",
   "metadata": {},
   "source": [
    "### 函數裝飾(修飾)器"
   ]
  },
  {
   "cell_type": "code",
   "execution_count": 12,
   "metadata": {},
   "outputs": [],
   "source": [
    "cvt_section_list = {\n",
    "    'salad':'沙拉', 'appetizer':'前菜', 'soup':'湯品',\n",
    "    'main':'主菜', 'rice':'和食', 'dessert':'甜點', 'drink':'飲品'\n",
    "}\n",
    "def cvt_section(key):\n",
    "    return cvt_section_list[key]\n",
    "\n",
    "def revenue_book(func):    \n",
    "    def wrap(menu, **kwargs):\n",
    "        import time\n",
    "        total_price, kwargs = func(menu, **kwargs)\n",
    "        print('時間:',time.asctime())\n",
    "        print('金額:',total_price)\n",
    "        print()\n",
    "        print('明細:')\n",
    "        for section, meal in kwargs.items():\n",
    "            print(cvt_section(section), meal)\n",
    "        print('\\n')\n",
    "        return total_price, kwargs\n",
    "    return wrap\n",
    "\n",
    "@revenue_book\n",
    "def order_system3(menu, **kwargs):\n",
    "    total_price = 0\n",
    "    for key, val in kwargs.items():\n",
    "        section = cvt_section(key)\n",
    "        for meal in val:\n",
    "            total_price += menu[section][meal]\n",
    "    return total_price, kwargs"
   ]
  },
  {
   "cell_type": "code",
   "execution_count": 13,
   "metadata": {},
   "outputs": [
    {
     "name": "stdout",
     "output_type": "stream",
     "text": [
      "時間: Mon Oct 26 02:13:51 2020\n",
      "金額: 2340\n",
      "\n",
      "明細:\n",
      "沙拉 ['焗牛肉鮮蔬溫沙拉', '焗牛肉鮮蔬溫沙拉', '季節鮮果沙拉盅']\n",
      "前菜 ['醬燒杏鮑菇']\n",
      "湯品 ['黑松露佐蕈菇濃湯', '蒜香海鮮燉湯']\n",
      "主菜 ['香蒜瓦片牛肉', '嫩烤雪花翼板牛排', '果香酥烤鴨胸', '美國紐約客牛排', '嫩煎豚排', '香烤半雞']\n",
      "和食 ['照燒雞肉炸飯糰', '照燒雞肉炸飯糰', '鮭魚茶泡飯', '照燒雞肉炸飯糰']\n",
      "甜點 ['冷月紫米', '蔓越莓優格起司蛋糕']\n",
      "飲品 ['芒果優格飲', '經典美式咖啡', '經典美式咖啡', '焦糖醇香奶茶']\n",
      "\n",
      "\n"
     ]
    }
   ],
   "source": [
    "total_price, detail = order_system3(\n",
    "    menu,\n",
    "    salad=['焗牛肉鮮蔬溫沙拉','焗牛肉鮮蔬溫沙拉','季節鮮果沙拉盅'],\n",
    "    appetizer=['醬燒杏鮑菇'],\n",
    "    soup=['黑松露佐蕈菇濃湯','蒜香海鮮燉湯'],\n",
    "    main=['香蒜瓦片牛肉','嫩烤雪花翼板牛排','果香酥烤鴨胸','美國紐約客牛排','嫩煎豚排','香烤半雞'],\n",
    "    rice=['照燒雞肉炸飯糰','照燒雞肉炸飯糰','鮭魚茶泡飯','照燒雞肉炸飯糰'],\n",
    "    dessert=['冷月紫米','蔓越莓優格起司蛋糕'],\n",
    "    drink=['芒果優格飲','經典美式咖啡','經典美式咖啡','焦糖醇香奶茶'],\n",
    ")"
   ]
  },
  {
   "cell_type": "code",
   "execution_count": null,
   "metadata": {},
   "outputs": [],
   "source": []
  }
 ],
 "metadata": {
  "kernelspec": {
   "display_name": "Python 3 (Spyder)",
   "language": "python3",
   "name": "python3"
  },
  "language_info": {
   "codemirror_mode": {
    "name": "ipython",
    "version": 3
   },
   "file_extension": ".py",
   "mimetype": "text/x-python",
   "name": "python",
   "nbconvert_exporter": "python",
   "pygments_lexer": "ipython3",
   "version": "3.6.6"
  }
 },
 "nbformat": 4,
 "nbformat_minor": 4
}
