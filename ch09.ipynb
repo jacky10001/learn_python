{
 "cells": [
  {
   "cell_type": "markdown",
   "metadata": {},
   "source": [
    "# Learn Python"
   ]
  },
  {
   "cell_type": "code",
   "execution_count": null,
   "metadata": {},
   "outputs": [],
   "source": [
    "import numpy as np\n",
    "import matplotlib.pyplot as plt\n",
    "%matplotlib auto\n",
    "\n",
    "def expand(mi, mx):\n",
    "    inter = (mx - mi) * 0.05\n",
    "    return mi-inter, mx+inter\n",
    "\n",
    "x_min, x_max = expand(-5, 5)\n",
    "y_min, y_max = expand(0, 25)\n",
    "\n",
    "fig = plt.figure(figsize=(4.5, 3))\n",
    "ax = fig.add_subplot(1, 1, 1)\n",
    "ax.axis([x_min, x_max, y_min, y_max])    # 固定 X 轴和 Y 轴坐标范围\n",
    "plt.ion()                                # 连续动态图\n",
    "\n",
    "# 初始化 (x, y) 坐标\n",
    "pre_x = -5 \n",
    "pre_y = pre_x ** 2\n",
    "\n",
    "for _ in range(100):                    # 以 0.1 的步长更新 x，绘制 y=x**2 的动态图\n",
    "    cur_x = pre_x + 0.1\n",
    "    cur_y = cur_x ** 2\n",
    "    \n",
    "    ax.plot([pre_x, cur_x], [pre_y, cur_y], 'r-')\n",
    "    plt.pause(0.1)                       # 每次绘制后暂停 0.1 秒\n",
    "    \n",
    "    pre_x, pre_y = cur_x, cur_y"
   ]
  },
  {
   "cell_type": "code",
   "execution_count": 1,
   "metadata": {},
   "outputs": [
    {
     "data": {
      "text/plain": [
       "[[1, 2, 3, 4, 5, 6],\n",
       " [1, 2, 3, 4, 5, 6],\n",
       " [1, 2, 3, 4, 5, 6],\n",
       " [1, 2, 3, 4, 5, 6],\n",
       " [1, 2, 3, 4, 5, 6],\n",
       " [1, 2, 3, 4, 5, 6],\n",
       " [1, 2, 3, 4, 5, 6],\n",
       " [1, 2, 3, 4, 5, 6]]"
      ]
     },
     "execution_count": 1,
     "metadata": {},
     "output_type": "execute_result"
    }
   ],
   "source": [
    "a = [[1,2,3,4,5,6],\n",
    "     [1,2,3,4,5,6],\n",
    "     [1,2,3,4,5,6],\n",
    "     [1,2,3,4,5,6]]\n",
    "\n",
    "b = [[1,2,3,4,5,6],\n",
    "     [1,2,3,4,5,6],\n",
    "     [1,2,3,4,5,6],\n",
    "     [1,2,3,4,5,6]]\n",
    "\n",
    "a + b"
   ]
  },
  {
   "cell_type": "code",
   "execution_count": 2,
   "metadata": {},
   "outputs": [
    {
     "ename": "TypeError",
     "evalue": "can't multiply sequence by non-int of type 'list'",
     "output_type": "error",
     "traceback": [
      "Traceback \u001b[1;36m(most recent call last)\u001b[0m:\n",
      "\u001b[1;36m  File \u001b[1;32m\"<ipython-input-2-9bc1a869709f>\"\u001b[1;36m, line \u001b[1;32m1\u001b[1;36m, in \u001b[1;35m<module>\u001b[1;36m\u001b[0m\n\u001b[1;33m    a * b\u001b[0m\n",
      "\u001b[1;31mTypeError\u001b[0m\u001b[1;31m:\u001b[0m can't multiply sequence by non-int of type 'list'\n"
     ]
    }
   ],
   "source": [
    "a * b"
   ]
  },
  {
   "cell_type": "code",
   "execution_count": null,
   "metadata": {},
   "outputs": [],
   "source": []
  },
  {
   "cell_type": "code",
   "execution_count": null,
   "metadata": {},
   "outputs": [],
   "source": []
  }
 ],
 "metadata": {
  "kernelspec": {
   "display_name": "Python 3 (Spyder)",
   "language": "python3",
   "name": "python3"
  },
  "language_info": {
   "codemirror_mode": {
    "name": "ipython",
    "version": 3
   },
   "file_extension": ".py",
   "mimetype": "text/x-python",
   "name": "python",
   "nbconvert_exporter": "python",
   "pygments_lexer": "ipython3",
   "version": "3.6.6"
  }
 },
 "nbformat": 4,
 "nbformat_minor": 4
}
