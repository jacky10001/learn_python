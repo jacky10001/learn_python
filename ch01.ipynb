{
 "cells": [
  {
   "cell_type": "markdown",
   "metadata": {},
   "source": [
    "# Learn Python"
   ]
  },
  {
   "cell_type": "markdown",
   "metadata": {},
   "source": [
    "### Python 程式語言\n"
   ]
  },
  {
   "cell_type": "markdown",
   "metadata": {},
   "source": [
    "<table>\n",
    "    <tbody>\n",
    "        <tr>\n",
    "            <td width=\"60%\">\n",
    "                <h2>一種高階程式語言，簡單且直覺的特性使剛接觸程式的人能更容易學</h2>\n",
    "                <h3>Python程式碼能已更加口語化的方式進行編寫，對於程式理解及指令使用也比其他程式語言要容易多</h3>\n",
    "                <p><img src=\"https://topictrick.com/wp-content/uploads/2020/03/History-of-Python-1024x576.jpg\" width=\"100%\"></p></td>\n",
    "            <td width=\"40%\"><img src=\"https://topictrick.com/wp-content/uploads/2020/03/Popular-Technology-717x1024.jpg\" width=\"100%\"></td>\n",
    "        </tr>\n",
    "    </tbody>\n",
    "</table>"
   ]
  },
  {
   "cell_type": "markdown",
   "metadata": {},
   "source": [
    "### Python 歷史\n",
    "1989 – Python Implementation was started by Guido Van Rossum at Centrum Wiskunde & Informatica, Netherlands. <br>\n",
    "1991 – van Rossum published the code (labeled version 0.9.0) to alt.sources. <br>\n",
    "1994 – Python 1.0 was released with additional features like: lambda, map, filter, and reduce which are widely used even today. <br>\n",
    "2000 – Python 2.0 was released with new features like: list comprehensions, garbage collection system which makes Python efficient is many ways. <br>\n",
    "2008 – Python 2.6 was released which was followed by release of Python 3.0 (also called “Py3K”). It was designed to rectify fundamental flaw of the language. <br>\n",
    "2010 – Python 2.7 version was a major release.It is widely used even today industries and academia. This is the last version of 2.x python series. <br>\n",
    "2018 – Python 3.7 ,the last version of Python was released. <br><br>\n",
    "\n",
    "<strong>ABC programming language</strong> is said to be the predecessor of Python language which was capable of Exception Handling and interfacing with Amoeba <br>\n",
    "Operating System. Python is influenced by following programming languages like Modula – 3 and ABC language"
   ]
  },
  {
   "cell_type": "markdown",
   "metadata": {},
   "source": [
    "### Python 容易學習"
   ]
  },
  {
   "cell_type": "markdown",
   "metadata": {},
   "source": [
    "所有資料型態都是以 \"類別物件\" 來處理，因此能以更加精簡的方式來呼叫變數"
   ]
  },
  {
   "cell_type": "code",
   "execution_count": 1,
   "metadata": {},
   "outputs": [
    {
     "data": {
      "text/plain": [
       "'3.6.6 |Anaconda, Inc.| (default, Jun 28 2018, 11:27:44) [MSC v.1900 64 bit (AMD64)]'"
      ]
     },
     "execution_count": 1,
     "metadata": {},
     "output_type": "execute_result"
    }
   ],
   "source": [
    "import sys\n",
    "sys.version"
   ]
  },
  {
   "cell_type": "code",
   "execution_count": 2,
   "metadata": {},
   "outputs": [],
   "source": [
    "a = 1"
   ]
  },
  {
   "cell_type": "code",
   "execution_count": 3,
   "metadata": {},
   "outputs": [
    {
     "name": "stdout",
     "output_type": "stream",
     "text": [
      "<class 'int'>\n"
     ]
    }
   ],
   "source": [
    "print(type(a))"
   ]
  },
  {
   "cell_type": "code",
   "execution_count": 4,
   "metadata": {},
   "outputs": [
    {
     "name": "stdout",
     "output_type": "stream",
     "text": [
      "hellow world\n"
     ]
    }
   ],
   "source": [
    "print('hellow world')"
   ]
  },
  {
   "cell_type": "markdown",
   "metadata": {},
   "source": [
    "### 整合介面 "
   ]
  },
  {
   "cell_type": "markdown",
   "metadata": {},
   "source": [
    "Python可以通過文字編輯器並使用命令提式字元直接執行，<br>也可以使用Jupyter Notebook、Spyder、PyCharm、Atom、Visual Stdio Code..等等各種整合開發工具來執行(IDE)。<br><br>\n",
    "一般對於初學者初學Python，建議 \"使用Jupyter Notebook\" 作為學習Python的程式工具、因為它充分展現「所見及所得」的概念，對於了解程式碼運行有非常大的幫助。"
   ]
  },
  {
   "cell_type": "markdown",
   "metadata": {},
   "source": [
    "### 安裝"
   ]
  },
  {
   "cell_type": "markdown",
   "metadata": {},
   "source": [
    "如果要安裝Python可以選擇直接至官網下載「Python直譯器」或是「Anaconda」。 <br><br>\n",
    "對於初學者建議直接使用Anaconda來使用，安裝Anaconda同時就會內建基本函式庫，<br>而Anaconda也內建一些指令可以進行Python環境管理，你可以藉由此功能來管理所需要的函式庫。"
   ]
  },
  {
   "cell_type": "markdown",
   "metadata": {},
   "source": [
    "# Python\n",
    "https://www.python.org/"
   ]
  },
  {
   "cell_type": "markdown",
   "metadata": {},
   "source": [
    "許多運用Python寫成的函式庫 (Library) ，會上傳至 PyPI (Python Package Index) 這個雲端套件庫 (Package) ，<br>\n",
    "而 PyPI 屬於官方所管理的軟體庫，我們也能將自己的程式放上去供人下載，這些開放的軟體庫能藉由pip指令進行下載及安裝，<br>\n",
    "所謂 pip 是目前 Pyhton 所通用的套件管理工具，因此安裝任何套件皆可以使用「pip install」這個來安裝。 <br><br>\n",
    "而目前通過PyPI可以下載超過 250,000 的專案，其中這些包括各種不同領域的軟體可以進行開發及使用。"
   ]
  },
  {
   "cell_type": "markdown",
   "metadata": {},
   "source": [
    "###### "
   ]
  },
  {
   "cell_type": "markdown",
   "metadata": {},
   "source": [
    "# Anaconda3\n",
    "https://www.anaconda.com/products/individual"
   ]
  },
  {
   "cell_type": "markdown",
   "metadata": {},
   "source": [
    "最重要的功能是運用 Conda Commands 來進行所謂的環境管理 <br>\n",
    "同時 Anaconda 有自己的 Package Cloud，因此一些複雜工具能藉由 Conda 安裝更完整，<br>\n",
    "例如Spyder、Jupyter等高度依賴相關套件的工具 (需要安奘許多小套件才得以運行)。"
   ]
  },
  {
   "cell_type": "markdown",
   "metadata": {},
   "source": [
    "###### "
   ]
  },
  {
   "cell_type": "markdown",
   "metadata": {},
   "source": [
    "<p><img src=\"https://www.anaconda.com/imager/assetsdo/Products/8031/open-source-logos2x_680db6b6f11f9cc710dd7defae241cd3.png\" width=\"40%\"></p>"
   ]
  },
  {
   "cell_type": "markdown",
   "metadata": {},
   "source": [
    "對於已熟悉主要程式語言，<strong>使用Python可以更快速開發一些功能</strong>；也能夠像MATLAB一樣快速得到結果，靈活性高<br>\n",
    "原因在於Python已有完整函式庫，如NumPy、SciPy、Pandas、Matplotlib供使用者下載使用，因此許多功能不需自行編寫 <br>\n",
    "且除了這些基本數學工具及函式、也有許多非官方的函式庫能夠運用，像是OpenCV、TensorFlow..等等， <br>\n",
    "再加上有許多整合開發工具支援Python，所以使得Python能夠有非常強大功能 <br><br>\n",
    "這些強大功能讓Python可以應用至網站架設、網路爬蟲、資料分析、影像處理、人機介面..等等<br>\n",
    "而個人學習也不需要購買授權，詮釋開放原始碼(Open Source)，使Python成為目前受歡迎的程式語言"
   ]
  },
  {
   "cell_type": "markdown",
   "metadata": {},
   "source": [
    "###### "
   ]
  },
  {
   "cell_type": "markdown",
   "metadata": {},
   "source": [
    "### 跨平台特性 "
   ]
  },
  {
   "cell_type": "markdown",
   "metadata": {},
   "source": [
    "<p><img src=\"https://topictrick.com/wp-content/uploads/2020/03/How-python-compiler-and-python-interpretor-work.gif\" width=\"80%\"></p>"
   ]
  },
  {
   "cell_type": "markdown",
   "metadata": {},
   "source": [
    "<p><img src=\"https://topictrick.com/wp-content/uploads/2020/03/Python-Virtual-Machine.jpg\" width=\"80%\"></p>"
   ]
  },
  {
   "cell_type": "markdown",
   "metadata": {},
   "source": [
    "由上述概念可以發現，Python能夠一行一行執行，這種模式得程式語言叫做「直譯式」語言 <br>\n",
    "在Python中，程式碼的處理方式可以簡化為下列流程：<br>\n",
    "<strong> 程式碼 >> 經過編譯器 >> 形成位元(機器)碼 >> 在虛擬機器執行 >> 完成輸出 </strong><br>\n",
    "<strong> .py >> compiler >> .pyc >> output </strong><br><br>\n",
    "正因為這樣的特性，使Python能夠達到跨平台的開發，同時為了平衡各個平台，導致在執行速度上將會比一般主要程式語言慢上許多。<br>\n",
    "但並不是所有Python程式都可以跨平台，若是開發的程式中含有某個OS中才有的東西，在其他作業系統不見得能執行，<br>\n",
    "即便這套OS有Python的直譯器也不能執行，另外也不能跨處理器架構(CPU)去執行。"
   ]
  },
  {
   "cell_type": "markdown",
   "metadata": {},
   "source": [
    "<p><img src=\"https://huang-jerryc.com/image/blog/do-you-konw-the-different-between-compiler-and-interpreter//B415AA74BF5438CCEB2FEAEDD002B1BD.jpg\" width=\"60%\"></p>"
   ]
  },
  {
   "cell_type": "markdown",
   "metadata": {},
   "source": [
    "編譯：把程序原始碼翻譯成另外代碼，然後被執行，發生在運行之前，產物是「另一代碼」。 <br>\n",
    "解釋：把程序原始碼一行一行的讀懂然後執行，發生在運行時，產物是「運行結果」。 <br>\n",
    "https://huang-jerryc.com/2016/11/20/do-you-konw-the-different-between-compiler-and-interpreter/"
   ]
  },
  {
   "cell_type": "markdown",
   "metadata": {},
   "source": [
    "# "
   ]
  },
  {
   "cell_type": "markdown",
   "metadata": {},
   "source": [
    "Python 教學網站 <br>\n",
    "https://www.geeksforgeeks.org/python-arrays/?ref=lbp"
   ]
  },
  {
   "cell_type": "markdown",
   "metadata": {},
   "source": [
    "NumPy 相關資料"
   ]
  },
  {
   "cell_type": "markdown",
   "metadata": {},
   "source": [
    "http://mathesaurus.sourceforge.net/matlab-numpy.html\n",
    "\n",
    "https://sebastianraschka.com/blog/2014/matrix_cheatsheet_table.html\n",
    "\n",
    "https://hyperpolyglot.org/numerical-analysis#numpy\n",
    "\n",
    "https://ipgp.github.io/scientific_python_cheat_sheet/"
   ]
  },
  {
   "cell_type": "code",
   "execution_count": null,
   "metadata": {},
   "outputs": [],
   "source": []
  },
  {
   "cell_type": "code",
   "execution_count": null,
   "metadata": {},
   "outputs": [],
   "source": []
  },
  {
   "cell_type": "code",
   "execution_count": null,
   "metadata": {},
   "outputs": [],
   "source": []
  },
  {
   "cell_type": "code",
   "execution_count": null,
   "metadata": {},
   "outputs": [],
   "source": []
  }
 ],
 "metadata": {
  "kernelspec": {
   "display_name": "Python 3 (Spyder)",
   "language": "python3",
   "name": "python3"
  },
  "language_info": {
   "codemirror_mode": {
    "name": "ipython",
    "version": 3
   },
   "file_extension": ".py",
   "mimetype": "text/x-python",
   "name": "python",
   "nbconvert_exporter": "python",
   "pygments_lexer": "ipython3",
   "version": "3.6.6"
  }
 },
 "nbformat": 4,
 "nbformat_minor": 4
}
