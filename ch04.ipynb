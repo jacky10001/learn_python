{
 "cells": [
  {
   "cell_type": "markdown",
   "metadata": {},
   "source": [
    "# Learn Python"
   ]
  },
  {
   "cell_type": "markdown",
   "metadata": {},
   "source": [
    "### Python 迴圈及陳述句"
   ]
  },
  {
   "cell_type": "markdown",
   "metadata": {},
   "source": [
    "### for 迴圈範例"
   ]
  },
  {
   "cell_type": "code",
   "execution_count": 6,
   "metadata": {},
   "outputs": [
    {
     "name": "stdout",
     "output_type": "stream",
     "text": [
      "0 1 2 3 4 5 6 7 8 9 "
     ]
    }
   ],
   "source": [
    "for i in range(10):\n",
    "    print(i, end=' ')"
   ]
  },
  {
   "cell_type": "markdown",
   "metadata": {},
   "source": [
    "### while 迴圈範例"
   ]
  },
  {
   "cell_type": "code",
   "execution_count": 5,
   "metadata": {},
   "outputs": [
    {
     "name": "stdout",
     "output_type": "stream",
     "text": [
      "0 1 2 3 4 5 6 7 8 9 "
     ]
    }
   ],
   "source": [
    "i = 0\n",
    "while i < 10:\n",
    "    print(i, end=' ')\n",
    "    i += 1"
   ]
  },
  {
   "cell_type": "markdown",
   "metadata": {},
   "source": [
    "### 特殊迴圈範例"
   ]
  },
  {
   "cell_type": "code",
   "execution_count": 4,
   "metadata": {},
   "outputs": [
    {
     "name": "stdout",
     "output_type": "stream",
     "text": [
      "0 2 4 6 8 "
     ]
    }
   ],
   "source": [
    "for i in [0,2,4,6,8]:\n",
    "    print(i, end=' ')"
   ]
  },
  {
   "cell_type": "code",
   "execution_count": 2,
   "metadata": {},
   "outputs": [
    {
     "name": "stdout",
     "output_type": "stream",
     "text": [
      "h e l l o w "
     ]
    }
   ],
   "source": [
    "for i in 'hellow':\n",
    "    print(i, end=' ')"
   ]
  },
  {
   "cell_type": "code",
   "execution_count": 3,
   "metadata": {},
   "outputs": [
    {
     "name": "stdout",
     "output_type": "stream",
     "text": [
      "0 a\n",
      "1 b\n",
      "2 c\n",
      "3 d\n"
     ]
    }
   ],
   "source": [
    "dict_var = {0:'a',\n",
    "            1:'b',\n",
    "            2:'c',\n",
    "            3:'d'}\n",
    "for key, val in dict_var.items():\n",
    "    print(key, val)"
   ]
  },
  {
   "cell_type": "markdown",
   "metadata": {},
   "source": [
    "# "
   ]
  },
  {
   "cell_type": "code",
   "execution_count": 6,
   "metadata": {},
   "outputs": [],
   "source": [
    "a = 1"
   ]
  },
  {
   "cell_type": "code",
   "execution_count": 7,
   "metadata": {},
   "outputs": [
    {
     "name": "stdout",
     "output_type": "stream",
     "text": [
      "a <= 2\n"
     ]
    }
   ],
   "source": [
    "if a > 2:\n",
    "    print('a > 2')\n",
    "else:\n",
    "    print('a <= 2')"
   ]
  },
  {
   "cell_type": "code",
   "execution_count": 8,
   "metadata": {},
   "outputs": [],
   "source": [
    "a = 5"
   ]
  },
  {
   "cell_type": "code",
   "execution_count": 9,
   "metadata": {},
   "outputs": [
    {
     "name": "stdout",
     "output_type": "stream",
     "text": [
      "a > 2\n"
     ]
    }
   ],
   "source": [
    "if a > 2:\n",
    "    print('a > 2')\n",
    "else:\n",
    "    print('a <= 2')1"
   ]
  },
  {
   "cell_type": "code",
   "execution_count": 10,
   "metadata": {},
   "outputs": [],
   "source": [
    "a = 1.4"
   ]
  },
  {
   "cell_type": "code",
   "execution_count": 12,
   "metadata": {},
   "outputs": [
    {
     "name": "stdout",
     "output_type": "stream",
     "text": [
      "2 > a > 0.5\n"
     ]
    }
   ],
   "source": [
    "if a > 2:\n",
    "    print('a > 2')\n",
    "elif 2 >= a > 0.5:\n",
    "    print('2 > a > 0.5')\n",
    "else:\n",
    "    print('a <= 2')"
   ]
  },
  {
   "cell_type": "code",
   "execution_count": 13,
   "metadata": {},
   "outputs": [
    {
     "name": "stdout",
     "output_type": "stream",
     "text": [
      "2 > a > 1.2\n"
     ]
    }
   ],
   "source": [
    "if a > 2:\n",
    "    print('a > 2')\n",
    "elif 2 >= a > 1.2:\n",
    "    print('2 > a > 1.2')\n",
    "elif 1.2 >= a > 0.5:\n",
    "    print('1.2 > a > 0.5')\n",
    "else:\n",
    "    print('a <= 2')"
   ]
  },
  {
   "cell_type": "markdown",
   "metadata": {},
   "source": [
    "# "
   ]
  },
  {
   "cell_type": "markdown",
   "metadata": {},
   "source": [
    "### 將目前的所學內容做一個演練"
   ]
  },
  {
   "cell_type": "code",
   "execution_count": 44,
   "metadata": {},
   "outputs": [
    {
     "data": {
      "text/plain": [
       "{'A': 80, 'B': 65, 'C': 75, 'D': 100, 'E': 45, 'F': 90}"
      ]
     },
     "execution_count": 44,
     "metadata": {},
     "output_type": "execute_result"
    }
   ],
   "source": [
    "score_table = {\n",
    "    'A': 80,\n",
    "    'B': 65,\n",
    "    'C': 75,\n",
    "    'D': 100,\n",
    "    'E': 45,\n",
    "    'F': 90\n",
    "}\n",
    "score_table"
   ]
  },
  {
   "cell_type": "code",
   "execution_count": 45,
   "metadata": {},
   "outputs": [
    {
     "name": "stdout",
     "output_type": "stream",
     "text": [
      "A 80\n",
      "B 65\n",
      "C 75\n",
      "D 100\n",
      "E 45\n",
      "F 90\n"
     ]
    }
   ],
   "source": [
    "for name, score in score_table.items():\n",
    "    print(name,score)"
   ]
  },
  {
   "cell_type": "code",
   "execution_count": 47,
   "metadata": {},
   "outputs": [
    {
     "name": "stdout",
     "output_type": "stream",
     "text": [
      "A 80 pass\n",
      "B 65 fail\n",
      "C 75 pass\n",
      "D 100 pass\n",
      "E 45 fail\n",
      "F 90 pass\n"
     ]
    }
   ],
   "source": [
    "for name, score in score_table.items():\n",
    "    if score < 70:\n",
    "        note = 'fail'\n",
    "    else:\n",
    "        note = 'pass'\n",
    "    print(name,score,note)"
   ]
  },
  {
   "cell_type": "code",
   "execution_count": 49,
   "metadata": {},
   "outputs": [
    {
     "data": {
      "text/plain": [
       "[0, 1, 2, 3, 4, 5, 6, 7, 8, 9]"
      ]
     },
     "execution_count": 49,
     "metadata": {},
     "output_type": "execute_result"
    }
   ],
   "source": [
    "a = [i for i in range(10)]\n",
    "a"
   ]
  },
  {
   "cell_type": "code",
   "execution_count": 50,
   "metadata": {},
   "outputs": [
    {
     "data": {
      "text/plain": [
       "[10, 11, 12, 13, 14, 15, 16, 17, 18, 19]"
      ]
     },
     "execution_count": 50,
     "metadata": {},
     "output_type": "execute_result"
    }
   ],
   "source": [
    "b = [i for i in range(10,20)]\n",
    "b"
   ]
  },
  {
   "cell_type": "code",
   "execution_count": 51,
   "metadata": {},
   "outputs": [
    {
     "name": "stdout",
     "output_type": "stream",
     "text": [
      "0 10\n",
      "1 11\n",
      "2 12\n",
      "3 13\n",
      "4 14\n",
      "5 15\n",
      "6 16\n",
      "7 17\n",
      "8 18\n",
      "9 19\n"
     ]
    }
   ],
   "source": [
    "for i, j in zip(a,b):\n",
    "    print(i,j)"
   ]
  },
  {
   "cell_type": "markdown",
   "metadata": {},
   "source": [
    "## "
   ]
  },
  {
   "cell_type": "markdown",
   "metadata": {},
   "source": [
    "## extra: 有序字典??"
   ]
  },
  {
   "cell_type": "code",
   "execution_count": 53,
   "metadata": {},
   "outputs": [
    {
     "data": {
      "text/plain": [
       "OrderedDict([('conv1', [3, 3]),\n",
       "             ('conv2', [12, 3]),\n",
       "             ('conv3', [24, 3]),\n",
       "             ('conv4', [24, 3]),\n",
       "             ('conv5', [16, 3])])"
      ]
     },
     "execution_count": 53,
     "metadata": {},
     "output_type": "execute_result"
    }
   ],
   "source": [
    "from collections import OrderedDict\n",
    "order_dict = OrderedDict()\n",
    "order_dict['conv1']=[3,3]\n",
    "order_dict['conv2']=[12,3]\n",
    "order_dict['conv3']=[24,3]\n",
    "order_dict['conv4']=[24,3]\n",
    "order_dict['conv5']=[16,3]\n",
    "\n",
    "order_dict"
   ]
  },
  {
   "cell_type": "code",
   "execution_count": 55,
   "metadata": {},
   "outputs": [
    {
     "data": {
      "text/plain": [
       "{'conv1': [3, 3],\n",
       " 'conv2': [12, 3],\n",
       " 'conv3': [24, 3],\n",
       " 'conv4': [24, 3],\n",
       " 'conv5': [16, 3]}"
      ]
     },
     "execution_count": 55,
     "metadata": {},
     "output_type": "execute_result"
    }
   ],
   "source": [
    "\"\"\" Python3.6 版本以後的字典是有序的了. \"\"\"\n",
    "order_dict = {}\n",
    "order_dict['conv1']=[3,3]\n",
    "order_dict['conv2']=[12,3]\n",
    "order_dict['conv3']=[24,3]\n",
    "order_dict['conv4']=[24,3]\n",
    "order_dict['conv5']=[16,3]\n",
    "\n",
    "order_dict"
   ]
  },
  {
   "cell_type": "markdown",
   "metadata": {},
   "source": [
    "## extra: 文章計數??"
   ]
  },
  {
   "cell_type": "code",
   "execution_count": 56,
   "metadata": {},
   "outputs": [
    {
     "data": {
      "text/plain": [
       "Counter({'\\n': 6,\n",
       "         ' ': 74,\n",
       "         'a': 24,\n",
       "         'c': 15,\n",
       "         'o': 22,\n",
       "         'u': 13,\n",
       "         'n': 21,\n",
       "         't': 24,\n",
       "         'e': 32,\n",
       "         'r': 20,\n",
       "         'i': 20,\n",
       "         's': 25,\n",
       "         'd': 10,\n",
       "         'b': 5,\n",
       "         'l': 14,\n",
       "         'f': 1,\n",
       "         'g': 7,\n",
       "         'h': 6,\n",
       "         'j': 1,\n",
       "         '.': 4,\n",
       "         'w': 2,\n",
       "         'm': 3,\n",
       "         'y': 4,\n",
       "         'k': 1,\n",
       "         'v': 3,\n",
       "         'z': 1})"
      ]
     },
     "execution_count": 56,
     "metadata": {},
     "output_type": "execute_result"
    }
   ],
   "source": [
    "from collections import Counter\n",
    "\n",
    "s = '''\n",
    "    A Counter is a dict subclass for counting hashable objects. \n",
    "    It is an unordered collection where elements are stored as dictionary keys and \n",
    "    their counts are stored as dictionary values. \n",
    "    Counts are allowed to be any integer value including zero or negative counts. \n",
    "    The Counter class is similar to bags or multisets in other languages.\n",
    "'''.lower()\n",
    "\n",
    "Counter(s)"
   ]
  },
  {
   "cell_type": "code",
   "execution_count": null,
   "metadata": {},
   "outputs": [],
   "source": []
  }
 ],
 "metadata": {
  "kernelspec": {
   "display_name": "Python 3 (Spyder)",
   "language": "python3",
   "name": "python3"
  },
  "language_info": {
   "codemirror_mode": {
    "name": "ipython",
    "version": 3
   },
   "file_extension": ".py",
   "mimetype": "text/x-python",
   "name": "python",
   "nbconvert_exporter": "python",
   "pygments_lexer": "ipython3",
   "version": "3.6.6"
  }
 },
 "nbformat": 4,
 "nbformat_minor": 4
}
