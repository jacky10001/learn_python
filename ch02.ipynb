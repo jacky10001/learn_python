{
 "cells": [
  {
   "cell_type": "markdown",
   "metadata": {},
   "source": [
    "# Learn Python"
   ]
  },
  {
   "cell_type": "markdown",
   "metadata": {},
   "source": [
    "### Python基本功能介紹"
   ]
  },
  {
   "cell_type": "markdown",
   "metadata": {},
   "source": [
    "### 基本指令: input and print "
   ]
  },
  {
   "cell_type": "code",
   "execution_count": 1,
   "metadata": {},
   "outputs": [
    {
     "name": "stdout",
     "output_type": "stream",
     "text": [
      "Simple shape on screen\n",
      "    /|\n",
      "   / |\n",
      "  /  |\n",
      " /   |\n",
      "/____|\n"
     ]
    }
   ],
   "source": [
    "print('Simple shape on screen')\n",
    "print('    /|')\n",
    "print('   / |')\n",
    "print('  /  |')\n",
    "print(' /   |')\n",
    "print('/____|')"
   ]
  },
  {
   "cell_type": "markdown",
   "metadata": {},
   "source": [
    "###### \n",
    "print 指令預設每一次印完資料會自動換行"
   ]
  },
  {
   "cell_type": "code",
   "execution_count": 2,
   "metadata": {},
   "outputs": [
    {
     "name": "stdout",
     "output_type": "stream",
     "text": [
      ".\n",
      "..\n",
      "...\n"
     ]
    }
   ],
   "source": [
    "print('.')\n",
    "print('..')\n",
    "print('...')"
   ]
  },
  {
   "cell_type": "markdown",
   "metadata": {},
   "source": [
    "可以藉由輸入參數「end」改變自動換行功能"
   ]
  },
  {
   "cell_type": "code",
   "execution_count": 3,
   "metadata": {},
   "outputs": [
    {
     "name": "stdout",
     "output_type": "stream",
     "text": [
      ". ..+...-"
     ]
    }
   ],
   "source": [
    "print('.', end=' ')\n",
    "print('..', end='+')\n",
    "print('...', end='-')"
   ]
  },
  {
   "cell_type": "markdown",
   "metadata": {},
   "source": [
    "###### \n",
    "input 指令會等待使用者輸入鍵盤 <br>\n",
    "等到使用者按下 Enter 之後才會繼續執行後面程式"
   ]
  },
  {
   "cell_type": "code",
   "execution_count": 4,
   "metadata": {},
   "outputs": [
    {
     "name": "stdout",
     "output_type": "stream",
     "text": [
      "input command 'input'\n",
      "What's your name?\n"
     ]
    },
    {
     "name": "stdin",
     "output_type": "stream",
     "text": [
      " Gao\n"
     ]
    },
    {
     "name": "stdout",
     "output_type": "stream",
     "text": [
      "\n",
      "Hi, Gao\n"
     ]
    }
   ],
   "source": [
    "print('input command \\'input\\'')\n",
    "print('What\\'s your name?')\n",
    "name = input()\n",
    "print()\n",
    "print('Hi,', name)"
   ]
  },
  {
   "cell_type": "markdown",
   "metadata": {},
   "source": [
    "# "
   ]
  },
  {
   "cell_type": "markdown",
   "metadata": {},
   "source": [
    "### 變數型態"
   ]
  },
  {
   "cell_type": "code",
   "execution_count": 5,
   "metadata": {},
   "outputs": [
    {
     "name": "stdout",
     "output_type": "stream",
     "text": [
      "<class 'int'> 1\n",
      "<class 'float'> 1.0\n",
      "<class 'str'> 1.0\n",
      "<class 'bool'> True\n",
      "<class 'complex'> (1+1j)\n",
      "<class 'complex'> (1+1j)\n",
      "<class 'NoneType'> None\n",
      "<class 'str'> 0b10\n",
      "<class 'str'> 0xe\n",
      "<class 'NoneType'> None\n",
      "<class 'NoneType'> None\n"
     ]
    }
   ],
   "source": [
    "a = 1                    # Python 整數型態\n",
    "print(type(a), a)\n",
    "\n",
    "a = 1.0                  # Python 浮點數型態\n",
    "print(type(a), a)\n",
    "\n",
    "a = '1.0'                # Python 字串型態\n",
    "print(type(a), a)\n",
    "\n",
    "a = True                 # Python 布林型態\n",
    "print(type(a), a)\n",
    "\n",
    "a = complex(1,1)         # Python 複數型態\n",
    "print(type(a), a)\n",
    "\n",
    "a = 1+1j                 # Python 複數型態\n",
    "print(type(a), a)\n",
    "\n",
    "a = None                 # Python 特殊用法 空型態\n",
    "print(type(a), a)\n",
    "\n",
    "a = bin(2)               # 二進制\n",
    "print(type(a), a)\n",
    "\n",
    "a = hex(14)              # 十六進制\n",
    "print(type(a), a)\n",
    "\n",
    "b = a = None             # 能用連續等於來給值\n",
    "print(type(a), a)\n",
    "print(type(b), b)"
   ]
  },
  {
   "cell_type": "markdown",
   "metadata": {},
   "source": [
    "# "
   ]
  },
  {
   "cell_type": "markdown",
   "metadata": {},
   "source": [
    "### 運算子"
   ]
  },
  {
   "cell_type": "code",
   "execution_count": 6,
   "metadata": {},
   "outputs": [
    {
     "name": "stdout",
     "output_type": "stream",
     "text": [
      "四則運算\n",
      "2\n",
      "0\n",
      "1\n",
      "1.0\n",
      "1\n",
      "1.0\n",
      "\n",
      "指數運算\n",
      "9\n",
      "9\n"
     ]
    }
   ],
   "source": [
    "print('四則運算')\n",
    "print(1 + 1)   # 加法\n",
    "print(1 - 1)   # 減法\n",
    "print(1 * 1)   # 乘法\n",
    "print(1 / 1)   # 除法\n",
    "print(1 // 1)  # floor\n",
    "print(1.0 // 1)  # floor\n",
    "\n",
    "print('\\n指數運算')\n",
    "print(3 ** 2)\n",
    "print(pow(3,2))\n"
   ]
  },
  {
   "cell_type": "markdown",
   "metadata": {},
   "source": [
    "# "
   ]
  },
  {
   "cell_type": "code",
   "execution_count": 7,
   "metadata": {},
   "outputs": [
    {
     "data": {
      "text/plain": [
       "2"
      ]
     },
     "execution_count": 7,
     "metadata": {},
     "output_type": "execute_result"
    }
   ],
   "source": [
    "a = 3\n",
    "b = 5\n",
    "\n",
    "b - a"
   ]
  },
  {
   "cell_type": "code",
   "execution_count": 8,
   "metadata": {},
   "outputs": [
    {
     "ename": "TypeError",
     "evalue": "unsupported operand type(s) for -: 'str' and 'int'",
     "output_type": "error",
     "traceback": [
      "Traceback \u001b[1;36m(most recent call last)\u001b[0m:\n",
      "\u001b[1;36m  File \u001b[1;32m\"<ipython-input-8-69cb3714b8aa>\"\u001b[1;36m, line \u001b[1;32m4\u001b[1;36m, in \u001b[1;35m<module>\u001b[1;36m\u001b[0m\n\u001b[1;33m    b - a\u001b[0m\n",
      "\u001b[1;31mTypeError\u001b[0m\u001b[1;31m:\u001b[0m unsupported operand type(s) for -: 'str' and 'int'\n"
     ]
    }
   ],
   "source": [
    "a = 3\n",
    "b = '5'\n",
    "\n",
    "b - a"
   ]
  },
  {
   "cell_type": "code",
   "execution_count": 9,
   "metadata": {},
   "outputs": [
    {
     "data": {
      "text/plain": [
       "2"
      ]
     },
     "execution_count": 9,
     "metadata": {},
     "output_type": "execute_result"
    }
   ],
   "source": [
    "a = 3\n",
    "b = '5'\n",
    "\n",
    "int(b) - a"
   ]
  },
  {
   "cell_type": "markdown",
   "metadata": {},
   "source": [
    "# "
   ]
  },
  {
   "cell_type": "markdown",
   "metadata": {},
   "source": [
    "### 字串處理"
   ]
  },
  {
   "cell_type": "code",
   "execution_count": 10,
   "metadata": {},
   "outputs": [],
   "source": [
    "str1 = 'hellow'\n",
    "str2 = 'world'"
   ]
  },
  {
   "cell_type": "code",
   "execution_count": 11,
   "metadata": {},
   "outputs": [
    {
     "name": "stdout",
     "output_type": "stream",
     "text": [
      "hellow world\n"
     ]
    }
   ],
   "source": [
    "print(str1, str2)"
   ]
  },
  {
   "cell_type": "code",
   "execution_count": 12,
   "metadata": {},
   "outputs": [
    {
     "name": "stdout",
     "output_type": "stream",
     "text": [
      "hellowworld\n"
     ]
    }
   ],
   "source": [
    "str3 = str1 + str2\n",
    "print(str3)"
   ]
  },
  {
   "cell_type": "code",
   "execution_count": 13,
   "metadata": {},
   "outputs": [
    {
     "name": "stdout",
     "output_type": "stream",
     "text": [
      "hel\n",
      "lowwo\n",
      "rld\n"
     ]
    }
   ],
   "source": [
    "print(str3[:3])\n",
    "print(str3[3:8])\n",
    "print(str3[-3:])"
   ]
  },
  {
   "cell_type": "code",
   "execution_count": 14,
   "metadata": {},
   "outputs": [
    {
     "name": "stdout",
     "output_type": "stream",
     "text": [
      "2\n",
      "hellowworld\n",
      "l\n"
     ]
    }
   ],
   "source": [
    "print(str3.find('l'))\n",
    "print(str3)\n",
    "print(str3[str3.find('l')])"
   ]
  },
  {
   "cell_type": "code",
   "execution_count": 15,
   "metadata": {},
   "outputs": [
    {
     "name": "stdout",
     "output_type": "stream",
     "text": [
      "5\n",
      "hellowworld\n",
      "w\n"
     ]
    }
   ],
   "source": [
    "print(str3.find('w'))\n",
    "print(str3)\n",
    "print(str3[str3.find('w')])"
   ]
  },
  {
   "cell_type": "code",
   "execution_count": 16,
   "metadata": {},
   "outputs": [
    {
     "data": {
      "text/plain": [
       "['hello', '', 'orld']"
      ]
     },
     "execution_count": 16,
     "metadata": {},
     "output_type": "execute_result"
    }
   ],
   "source": [
    "str3.split('w')"
   ]
  },
  {
   "cell_type": "code",
   "execution_count": 17,
   "metadata": {},
   "outputs": [
    {
     "data": {
      "text/plain": [
       "['hell', 'ww', 'rld']"
      ]
     },
     "execution_count": 17,
     "metadata": {},
     "output_type": "execute_result"
    }
   ],
   "source": [
    "str3.split('o')"
   ]
  },
  {
   "cell_type": "code",
   "execution_count": 18,
   "metadata": {},
   "outputs": [
    {
     "data": {
      "text/plain": [
       "'hellow world'"
      ]
     },
     "execution_count": 18,
     "metadata": {},
     "output_type": "execute_result"
    }
   ],
   "source": [
    "str3.replace('ww','w w')"
   ]
  },
  {
   "cell_type": "code",
   "execution_count": null,
   "metadata": {},
   "outputs": [],
   "source": []
  }
 ],
 "metadata": {
  "kernelspec": {
   "display_name": "Python 3 (Spyder)",
   "language": "python3",
   "name": "python3"
  },
  "language_info": {
   "codemirror_mode": {
    "name": "ipython",
    "version": 3
   },
   "file_extension": ".py",
   "mimetype": "text/x-python",
   "name": "python",
   "nbconvert_exporter": "python",
   "pygments_lexer": "ipython3",
   "version": "3.6.6"
  }
 },
 "nbformat": 4,
 "nbformat_minor": 4
}
