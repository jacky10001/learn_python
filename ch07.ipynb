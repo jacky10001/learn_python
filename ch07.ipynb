{
 "cells": [
  {
   "cell_type": "markdown",
   "metadata": {},
   "source": [
    "# Learn Python"
   ]
  },
  {
   "cell_type": "markdown",
   "metadata": {},
   "source": [
    "### 重新實現銀行戶頭管理"
   ]
  },
  {
   "cell_type": "code",
   "execution_count": 2,
   "metadata": {},
   "outputs": [
    {
     "name": "stdout",
     "output_type": "stream",
     "text": [
      " Current Account Balance: 200\n",
      "\n",
      "           Deposit Money: 5000\n",
      "         Account Balance: 5200\n",
      "\n",
      "          Withdraw Money: 600 \n",
      "         Account Balance: 4600\n",
      "\n",
      " Current Account Balance: 4600\n",
      "\n",
      " Current Account Balance: 0\n"
     ]
    }
   ],
   "source": [
    "class Account:\n",
    "    def __init__(self, username, first_balance=200, **kwargs):\n",
    "        self.name = username\n",
    "        self.__balance = first_balance    # 這是 \"私有變數\" ，但實際上還是有方法可以存取\n",
    "\n",
    "    def check_balance(self):\n",
    "        print(\"\"\" Current Account Balance: {}\"\"\".format(self.__balance))\n",
    "\n",
    "    def deposit(self, deposit):\n",
    "        self.__balance += deposit\n",
    "        print(\"\"\"\n",
    "           Deposit Money: {}\n",
    "         Account Balance: {}\"\"\".format(deposit, self.__balance))\n",
    "\n",
    "    def withdraw(self, withdraw):\n",
    "        self.__balance -= withdraw\n",
    "        print(\n",
    "        \"\"\"\n",
    "          Withdraw Money: {} \n",
    "         Account Balance: {}\"\"\".format(withdraw, self.__balance))\n",
    "\n",
    "account = Account('Jacky')\n",
    "account.check_balance()\n",
    "account.deposit(5000)\n",
    "account.withdraw(600)\n",
    "print()\n",
    "account.balance = 0\n",
    "account.check_balance()\n",
    "print()\n",
    "account._Account__balance = 0\n",
    "account.check_balance()"
   ]
  },
  {
   "cell_type": "markdown",
   "metadata": {},
   "source": [
    "# "
   ]
  },
  {
   "cell_type": "markdown",
   "metadata": {},
   "source": [
    "### 用 <font color=\"#ff0000\">@property</font> 為銀行帳戶增加<font color=\"#ff0000\">登入機制</font>"
   ]
  },
  {
   "cell_type": "code",
   "execution_count": 3,
   "metadata": {},
   "outputs": [],
   "source": [
    "# 將明文密碼進行加密的函式庫\n",
    "from werkzeug.security import generate_password_hash, check_password_hash\n",
    "\n",
    "            \n",
    "# 用 dict 來模擬會員資料庫\n",
    "global AccountDB    # 設定全域變數\n",
    "AccountDB = {}\n",
    "\n",
    "\n",
    "class Account:\n",
    "    global AccountDB\n",
    "    \n",
    "    def __init__(self, userid, password=\"0000\", first_money=200, **kwargs):\n",
    "        # 輸入會員資料\n",
    "        self.lock = False\n",
    "        self.userid = userid\n",
    "        if self.userid not in AccountDB.keys():\n",
    "            AccountDB[self.userid] = {}\n",
    "            AccountDB[self.userid]['userid'] = self.userid\n",
    "            AccountDB[self.userid]['password_hash'] = generate_password_hash(password)\n",
    "            AccountDB[self.userid]['balance'] = first_money\n",
    "            print(self.userid,'您好\\n\\n誠摯歡迎您的加入。')\n",
    "                \n",
    "    def __call__(self, password):\n",
    "        self.lock = self.verify_password(password)\n",
    "        if self.lock:\n",
    "            print('\\n登入成功。')\n",
    "            self.__check__account_info()\n",
    "        else: print('\\n密碼錯誤!')\n",
    "        return self.lock\n",
    "                \n",
    "    def __check__account_info(self, **kwargs):\n",
    "        if len(kwargs) > 0:\n",
    "            for key, val in kwargs.items():\n",
    "                AccountDB[self.userid][key] = val\n",
    "        if (len(AccountDB[self.userid]) <= 5 \n",
    "                and 'address' not in AccountDB[self.userid]\n",
    "                and 'phone' not in AccountDB[self.userid]):\n",
    "            print('您的基本資料尚未完成!!!')\n",
    "        \n",
    "    def get_account_info(self):\n",
    "        if self.lock:\n",
    "            for key, val in AccountDB[self.userid].items():\n",
    "                print('%-20s:'%key, val)\n",
    "        \n",
    "    def set_account_info(self, **kwargs):\n",
    "        if self.lock:\n",
    "            for key, val in kwargs.items():\n",
    "                AccountDB[self.userid][key] = val\n",
    "            for key, val in AccountDB[self.userid].items():\n",
    "                print('%-20s:'%key, val)\n",
    "        \n",
    "    #----- 導入密碼功能並進行封裝 -----#\n",
    "    @property\n",
    "    def password(self):\n",
    "        raise AttributeError('password is not readable attribute ...')\n",
    "\n",
    "    @password.setter\n",
    "    def password(self, password):\n",
    "        AccountDB[self.userid]['password_hash'] = generate_password_hash(password)\n",
    "\n",
    "    def verify_password(self, password):\n",
    "        return check_password_hash(AccountDB[self.userid]['password_hash'], password)"
   ]
  },
  {
   "cell_type": "markdown",
   "metadata": {},
   "source": [
    "### 新建帳戶"
   ]
  },
  {
   "cell_type": "code",
   "execution_count": 4,
   "metadata": {},
   "outputs": [
    {
     "name": "stdout",
     "output_type": "stream",
     "text": [
      "ioplab 您好\n",
      "\n",
      "誠摯歡迎您的加入。\n",
      "\n",
      "登入成功。\n",
      "您的基本資料尚未完成!!!\n",
      "userid              : ioplab\n",
      "password_hash       : pbkdf2:sha256:150000$laUBeCB8$887a7d77ef407dbd04cf932f9915532a3889aff0a210dd44fd4f3c29dd85e472\n",
      "balance             : 200\n"
     ]
    }
   ],
   "source": [
    "account = Account('ioplab', '0000')\n",
    "account('0000')\n",
    "account.get_account_info()"
   ]
  },
  {
   "cell_type": "markdown",
   "metadata": {},
   "source": [
    "<h3><font color=\"#ff0000\">@property</font> 運行結果</h3>"
   ]
  },
  {
   "cell_type": "code",
   "execution_count": 5,
   "metadata": {},
   "outputs": [
    {
     "name": "stdout",
     "output_type": "stream",
     "text": [
      "Verify first password:  True\n",
      "\n",
      "更改密碼\n",
      "Verify old password:  False\n",
      "Verify new password:  True\n",
      "\n",
      "禁止讀取密碼\n"
     ]
    },
    {
     "ename": "AttributeError",
     "evalue": "password is not readable attribute ...",
     "output_type": "error",
     "traceback": [
      "Traceback \u001b[1;36m(most recent call last)\u001b[0m:\n",
      "  File \u001b[0;32m\"<ipython-input-5-d82c024358c3>\"\u001b[0m, line \u001b[0;32m12\u001b[0m, in \u001b[0;35m<module>\u001b[0m\n    account.password\n",
      "\u001b[1;36m  File \u001b[1;32m\"<ipython-input-3-9c4370191d36>\"\u001b[1;36m, line \u001b[1;32m56\u001b[1;36m, in \u001b[1;35mpassword\u001b[1;36m\u001b[0m\n\u001b[1;33m    raise AttributeError('password is not readable attribute ...')\u001b[0m\n",
      "\u001b[1;31mAttributeError\u001b[0m\u001b[1;31m:\u001b[0m password is not readable attribute ...\n"
     ]
    }
   ],
   "source": [
    "print('Verify first password: ', account.verify_password('0000'))\n",
    "print()\n",
    "\n",
    "# 更改密碼\n",
    "print(\"更改密碼\")\n",
    "account.password = '123'\n",
    "print('Verify old password: ', account.verify_password('0000'))\n",
    "print('Verify new password: ', account.verify_password('123'))\n",
    "print()\n",
    "\n",
    "print(\"禁止讀取密碼\")\n",
    "account.password"
   ]
  },
  {
   "cell_type": "code",
   "execution_count": 8,
   "metadata": {},
   "outputs": [
    {
     "name": "stdout",
     "output_type": "stream",
     "text": [
      "重新登入 (使用舊密碼)\n",
      "\n",
      "密碼錯誤!\n",
      "\n",
      "-------\n",
      "\n",
      "重新登入 (使用新密碼)\n",
      "\n",
      "登入成功。\n",
      "您的基本資料尚未完成!!!\n"
     ]
    },
    {
     "data": {
      "text/plain": [
       "True"
      ]
     },
     "execution_count": 8,
     "metadata": {},
     "output_type": "execute_result"
    }
   ],
   "source": [
    "print('重新登入 (使用舊密碼)')\n",
    "account('0000')\n",
    "print('\\n-------\\n')\n",
    "print('重新登入 (使用新密碼)')\n",
    "account('123')"
   ]
  },
  {
   "cell_type": "code",
   "execution_count": 9,
   "metadata": {},
   "outputs": [
    {
     "name": "stdout",
     "output_type": "stream",
     "text": [
      "---------- 新增資料前 ----------\n",
      "userid              : ioplab\n",
      "password_hash       : pbkdf2:sha256:150000$lX3tzBHi$a314ea5e3a880a4bec7d3ff03c7bf2e66005e62e1310e97646d9f1e4aa0c45aa\n",
      "balance             : 200\n",
      "\n",
      "---------- 新增資料後 ----------\n",
      "userid              : ioplab\n",
      "password_hash       : pbkdf2:sha256:150000$lX3tzBHi$a314ea5e3a880a4bec7d3ff03c7bf2e66005e62e1310e97646d9f1e4aa0c45aa\n",
      "balance             : 200\n",
      "address             : 台北市文山區116汀州路四段88號\n",
      "phone               : (02)7749-6736\n"
     ]
    }
   ],
   "source": [
    "print('---------- 新增資料前 ----------')\n",
    "account.get_account_info()\n",
    "\n",
    "print()\n",
    "print('---------- 新增資料後 ----------')\n",
    "account.set_account_info(\n",
    "    address=\"台北市文山區116汀州路四段88號\",\n",
    "    phone=\"(02)7749-6736\"\n",
    ")"
   ]
  },
  {
   "cell_type": "markdown",
   "metadata": {},
   "source": [
    "###### "
   ]
  },
  {
   "cell_type": "markdown",
   "metadata": {},
   "source": [
    "### 用銀行帳戶例子說明 \"繼承\""
   ]
  },
  {
   "cell_type": "code",
   "execution_count": 10,
   "metadata": {},
   "outputs": [],
   "source": [
    "class BasicAccount(Account):\n",
    "    def __init__(self, userid):\n",
    "        super().__init__(userid)\n",
    "    \n",
    "    #----- 原先的方法 -----#\n",
    "    def check_balance(self):\n",
    "        if self.lock:\n",
    "            print(\n",
    "            \"\"\" Current Account Balance: {}\"\"\".format(AccountDB[self.userid]['balance']))\n",
    "\n",
    "    def deposit(self, deposit):\n",
    "        if self.lock:\n",
    "            AccountDB[self.userid]['balance'] += deposit\n",
    "            print(\n",
    "            \"\"\" \n",
    "               Deposit Money: {}\n",
    "             Account Balance: {}\"\"\".format(deposit, AccountDB[self.userid]['balance']))\n",
    "\n",
    "    def withdraw(self, withdraw):\n",
    "        if self.lock:\n",
    "            AccountDB[self.userid]['balance'] -= withdraw\n",
    "            print(\n",
    "            \"\"\" \n",
    "              Withdraw Money: {} \n",
    "             Account Balance: {}\"\"\".format(withdraw, AccountDB[self.userid]['balance']))"
   ]
  },
  {
   "cell_type": "code",
   "execution_count": 11,
   "metadata": {},
   "outputs": [
    {
     "name": "stdout",
     "output_type": "stream",
     "text": [
      "\n",
      "登入成功。\n",
      " Current Account Balance: 200\n",
      " \n",
      "               Deposit Money: 5000\n",
      "             Account Balance: 5200\n",
      " \n",
      "              Withdraw Money: 600 \n",
      "             Account Balance: 4600\n",
      "\n",
      "userid              : ioplab\n",
      "password_hash       : pbkdf2:sha256:150000$lX3tzBHi$a314ea5e3a880a4bec7d3ff03c7bf2e66005e62e1310e97646d9f1e4aa0c45aa\n",
      "balance             : 4600\n",
      "address             : 台北市文山區116汀州路四段88號\n",
      "phone               : (02)7749-6736\n"
     ]
    }
   ],
   "source": [
    "basic_account = BasicAccount('ioplab')\n",
    "basic_account('123')\n",
    "basic_account.check_balance()\n",
    "basic_account.deposit(5000)\n",
    "basic_account.withdraw(600)\n",
    "print()\n",
    "basic_account.get_account_info()"
   ]
  },
  {
   "cell_type": "markdown",
   "metadata": {},
   "source": [
    "# "
   ]
  },
  {
   "cell_type": "markdown",
   "metadata": {},
   "source": [
    "###  模擬線上 ATM 功能"
   ]
  },
  {
   "cell_type": "code",
   "execution_count": 13,
   "metadata": {},
   "outputs": [
    {
     "name": "stdin",
     "output_type": "stream",
     "text": [
      "請輸入帳號: [Enter:停止輸入]\n",
      " ioplab\n",
      "請輸入密碼：\n",
      " 123\n"
     ]
    },
    {
     "name": "stdout",
     "output_type": "stream",
     "text": [
      "驗證碼 06Snv25QPp\n"
     ]
    },
    {
     "name": "stdin",
     "output_type": "stream",
     "text": [
      "請輸入驗證碼: [需分大小寫] [Enter:停止輸入]\n",
      " 06Snv25QPp\n"
     ]
    },
    {
     "name": "stdout",
     "output_type": "stream",
     "text": [
      "\n",
      "登入成功。\n",
      "\n",
      "            服務項目:\n",
      "            0  -  餘額查詢\n",
      "            1  -  存款\n",
      "            2  -  提款\n",
      "            8  -  更改密碼\n",
      "            9  -  離開系統\n",
      "            \n"
     ]
    },
    {
     "name": "stdin",
     "output_type": "stream",
     "text": [
      "請選擇服務項目: [Enter:停止輸入]\n",
      " 0\n"
     ]
    },
    {
     "name": "stdout",
     "output_type": "stream",
     "text": [
      " Current Account Balance: 4600\n"
     ]
    }
   ],
   "source": [
    "# 密碼層級的亂數函式\n",
    "import secrets\n",
    "import string    # 獲得 字串工具\n",
    "\n",
    "# 產生密碼層級的亂數\n",
    "# 含有 小寫英文、三個以上大寫英文 及 兩個數字\n",
    "def generator_captcha():\n",
    "    # 獲得 小寫英文 大寫英文 數字\n",
    "    alphabet = string.ascii_letters + string.digits\n",
    "    while True:\n",
    "        password = ''.join(secrets.choice(alphabet) for _ in range(10))\n",
    "        if (any(c.islower() for c in password)\n",
    "                and sum(c.isupper() for c in password) == 3\n",
    "                and sum(c.isdigit() for c in password) > 2):\n",
    "            return password\n",
    "\n",
    "\n",
    "while True:\n",
    "    userid = input(\"請輸入帳號: [Enter:停止輸入]\\n\")\n",
    "    if userid == \"\":\n",
    "        break\n",
    "    basic_account = BasicAccount(userid)\n",
    "\n",
    "    for i in range(4):\n",
    "        if i == 3:\n",
    "            break\n",
    "        password = input(\"請輸入密碼：\\n\")\n",
    "        captcha = generator_captcha()\n",
    "        print(\"驗證碼\",captcha)\n",
    "        usr_captcha = input(\"請輸入驗證碼: [需分大小寫] [Enter:停止輸入]\\n\")\n",
    "        if usr_captcha != captcha:\n",
    "            print('驗證失敗!!!')\n",
    "        else:\n",
    "            if basic_account(password):\n",
    "                break\n",
    "\n",
    "    if basic_account.lock:\n",
    "        print(\n",
    "            \"\"\"\n",
    "            服務項目:\n",
    "            0  -  餘額查詢\n",
    "            1  -  存款\n",
    "            2  -  提款\n",
    "            8  -  更改密碼\n",
    "            9  -  離開系統\n",
    "            \"\"\"\n",
    "        )\n",
    "        service_id = int(input(\"請選擇服務項目: [Enter:停止輸入]\\n\"))\n",
    "        if service_id == 0:\n",
    "            basic_account.check_balance()\n",
    "        elif service_id == 1:\n",
    "            money = int(input(\"請輸入金額: [Enter:停止輸入]\\n\"))\n",
    "            basic_account.deposit(money)\n",
    "        elif service_id == 2:\n",
    "            money = int(input(\"請輸入金額: [Enter:停止輸入]\\n\"))\n",
    "            basic_account.withdraw(money)\n",
    "        elif service_id == 8:\n",
    "            print(\"更改密碼\")\n",
    "            old_password = input(\"請輸入舊密碼: \")\n",
    "            if not basic_account.verify_password(old_password):\n",
    "                break\n",
    "            password = \"\"\n",
    "            while not basic_account.verify_password(password):\n",
    "                password = old_password\n",
    "                basic_account.password = input(\"請輸入新密碼: \")\n",
    "                password = input(\"請確認新密碼: \")\n",
    "        else:\n",
    "            pass\n",
    "    break"
   ]
  },
  {
   "cell_type": "code",
   "execution_count": null,
   "metadata": {},
   "outputs": [],
   "source": []
  }
 ],
 "metadata": {
  "kernelspec": {
   "display_name": "Python 3 (Spyder)",
   "language": "python3",
   "name": "python3"
  },
  "language_info": {
   "codemirror_mode": {
    "name": "ipython",
    "version": 3
   },
   "file_extension": ".py",
   "mimetype": "text/x-python",
   "name": "python",
   "nbconvert_exporter": "python",
   "pygments_lexer": "ipython3",
   "version": "3.6.6"
  }
 },
 "nbformat": 4,
 "nbformat_minor": 4
}
