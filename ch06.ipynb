{
 "cells": [
  {
   "cell_type": "markdown",
   "metadata": {},
   "source": [
    "# Learn Python"
   ]
  },
  {
   "cell_type": "markdown",
   "metadata": {},
   "source": [
    "### 類別(Class)"
   ]
  },
  {
   "cell_type": "markdown",
   "metadata": {},
   "source": [
    "將某些狀態與功能黏在一起時，適合用類別。 <br>\n",
    "主要是為了實現 <font color=\"#00ff00\">物件導向設計(OOP)</font> ， <br>\n",
    "而物件導向在嘗試解決的其實是 <font color=\"#00ff00\">易用性（Usability)</font> 與 <font color=\"#00ff00\">重用性（Reusability）</font>。"
   ]
  },
  {
   "cell_type": "markdown",
   "metadata": {},
   "source": [
    "<p>\n",
    "class 類別名稱: <br>\n",
    "&nbsp;&nbsp;&nbsp;&nbsp;def __init__(參數1, 參數2, ...): <br>\n",
    "&nbsp;&nbsp;&nbsp;&nbsp;&nbsp;&nbsp;&nbsp;&nbsp;---------- <br>\n",
    "&nbsp;&nbsp;&nbsp;&nbsp;&nbsp;&nbsp;&nbsp;&nbsp;程式區塊 <br>\n",
    "&nbsp;&nbsp;&nbsp;&nbsp;&nbsp;&nbsp;&nbsp;&nbsp;---------- <br>\n",
    "&nbsp;&nbsp;&nbsp;&nbsp;def 方法1(參數1, 參數2, ...): <br>\n",
    "&nbsp;&nbsp;&nbsp;&nbsp;&nbsp;&nbsp;&nbsp;&nbsp;---------- <br>\n",
    "&nbsp;&nbsp;&nbsp;&nbsp;&nbsp;&nbsp;&nbsp;&nbsp;程式區塊 <br>\n",
    "&nbsp;&nbsp;&nbsp;&nbsp;&nbsp;&nbsp;&nbsp;&nbsp;---------- <br>\n",
    "&nbsp;&nbsp;&nbsp;&nbsp;def 方法2(參數1, 參數2, ...): <br>\n",
    "&nbsp;&nbsp;&nbsp;&nbsp;&nbsp;&nbsp;&nbsp;&nbsp;---------- <br>\n",
    "&nbsp;&nbsp;&nbsp;&nbsp;&nbsp;&nbsp;&nbsp;&nbsp;程式區塊 <br>\n",
    "&nbsp;&nbsp;&nbsp;&nbsp;&nbsp;&nbsp;&nbsp;&nbsp;---------- <br>\n",
    "</p>"
   ]
  },
  {
   "cell_type": "code",
   "execution_count": 62,
   "metadata": {},
   "outputs": [
    {
     "name": "stdout",
     "output_type": "stream",
     "text": [
      "Hi Violet\n",
      "Violet is happy\n",
      "Violet is angry\n",
      "Violet is sad\n",
      "Violet is cry\n"
     ]
    }
   ],
   "source": [
    "class Baby:\n",
    "    def __init__(self, name):\n",
    "        self.name = name\n",
    "        print('Hi', self.name)\n",
    "\n",
    "    def cry(self):\n",
    "        print(self.name, 'is cry')\n",
    "\n",
    "    def happy(self):\n",
    "        print(self.name, 'is happy')\n",
    "\n",
    "    def sad(self):\n",
    "        print(self.name, 'is sad')\n",
    "\n",
    "    def angry(self):\n",
    "        print(self.name, 'is angry')\n",
    "\n",
    "Violet = Baby('Violet')\n",
    "\n",
    "Violet.happy()\n",
    "Violet.angry()\n",
    "Violet.sad()\n",
    "Violet.cry()"
   ]
  },
  {
   "cell_type": "markdown",
   "metadata": {},
   "source": [
    "### 類別繼承"
   ]
  },
  {
   "cell_type": "code",
   "execution_count": 63,
   "metadata": {},
   "outputs": [
    {
     "name": "stdout",
     "output_type": "stream",
     "text": [
      "Hi Violet\n",
      "draw: dog\n",
      "Violet is happy\n",
      "read: book\n",
      "Violet is sad\n"
     ]
    }
   ],
   "source": [
    "class Children(Baby):\n",
    "    def __init__(self, name):\n",
    "        super().__init__(name)\n",
    "\n",
    "    def read(self, something):\n",
    "        print('read:', something)\n",
    "\n",
    "    def draw(self, something):\n",
    "        print('draw:', something)\n",
    "\n",
    "Violet = Children('Violet')\n",
    "Violet.draw('dog')\n",
    "Violet.happy()\n",
    "\n",
    "Violet.read('book')\n",
    "Violet.sad()"
   ]
  },
  {
   "cell_type": "code",
   "execution_count": 30,
   "metadata": {},
   "outputs": [
    {
     "name": "stdout",
     "output_type": "stream",
     "text": [
      "Hi Violet\n",
      "commute: bike\n",
      "work: dancer\n",
      "Violet is angry , becouse her friend lied .\n"
     ]
    }
   ],
   "source": [
    "class Adult(Children):\n",
    "    def __init__(self, name):\n",
    "        super().__init__(name)\n",
    "\n",
    "    def work(self, job):\n",
    "        print('work:', job)\n",
    "\n",
    "    def buy(self, ):\n",
    "        print('buy:', something)\n",
    "\n",
    "    def commute(self, transportation='walk'):\n",
    "        print('commute:', transportation)\n",
    "    \n",
    "    # 重寫方法\n",
    "    def angry(self, something):\n",
    "        print(self.name, 'is angry', ', becouse', something, '.')\n",
    "\n",
    "Violet = Adult('Violet')\n",
    "Violet.commute('bike')\n",
    "Violet.work('dancer')\n",
    "Violet.angry('her friend lied')"
   ]
  },
  {
   "cell_type": "markdown",
   "metadata": {},
   "source": [
    "### 類別多重繼承"
   ]
  },
  {
   "cell_type": "code",
   "execution_count": 64,
   "metadata": {},
   "outputs": [
    {
     "name": "stdout",
     "output_type": "stream",
     "text": [
      "Father\n",
      "Son\n"
     ]
    }
   ],
   "source": [
    "class Father:\n",
    "    def __init__(self):\n",
    "        print('Father')\n",
    "        \n",
    "class Mother:\n",
    "    def __init__(self):\n",
    "        print('Mother')\n",
    "        \n",
    "class Son(Father, Mother):\n",
    "    def __init__(self):\n",
    "        super().__init__()\n",
    "        print('Son')\n",
    "\n",
    "_ = Son()"
   ]
  },
  {
   "cell_type": "code",
   "execution_count": 25,
   "metadata": {},
   "outputs": [
    {
     "name": "stdout",
     "output_type": "stream",
     "text": [
      "Mother\n",
      "Father\n",
      "Son\n"
     ]
    }
   ],
   "source": [
    "class Father:\n",
    "    def __init__(self):\n",
    "        super().__init__()\n",
    "        print('Father')\n",
    "        \n",
    "class Mother:\n",
    "    def __init__(self):\n",
    "        super().__init__()c\n",
    "        print('Mother')\n",
    "        \n",
    "class Son(Father, Mother):\n",
    "    def __init__(self):\n",
    "        super().__init__()\n",
    "        print('Son')\n",
    "\n",
    "_ = Son()"
   ]
  },
  {
   "cell_type": "markdown",
   "metadata": {},
   "source": [
    "### "
   ]
  },
  {
   "cell_type": "markdown",
   "metadata": {},
   "source": [
    "### 私有屬性"
   ]
  },
  {
   "cell_type": "code",
   "execution_count": 67,
   "metadata": {},
   "outputs": [
    {
     "data": {
      "text/plain": [
       "'Candy'"
      ]
     },
     "execution_count": 67,
     "metadata": {},
     "output_type": "execute_result"
    }
   ],
   "source": [
    "class Bank:\n",
    "    def __init__(self, user):\n",
    "        self.user = user\n",
    "\n",
    "bank = Bank('Candy')\n",
    "bank.user"
   ]
  },
  {
   "cell_type": "code",
   "execution_count": 68,
   "metadata": {},
   "outputs": [
    {
     "ename": "AttributeError",
     "evalue": "'Bank' object has no attribute 'user'",
     "output_type": "error",
     "traceback": [
      "Traceback \u001b[1;36m(most recent call last)\u001b[0m:\n",
      "\u001b[1;36m  File \u001b[1;32m\"<ipython-input-68-a10509ceccfb>\"\u001b[1;36m, line \u001b[1;32m6\u001b[1;36m, in \u001b[1;35m<module>\u001b[1;36m\u001b[0m\n\u001b[1;33m    bank.user\u001b[0m\n",
      "\u001b[1;31mAttributeError\u001b[0m\u001b[1;31m:\u001b[0m 'Bank' object has no attribute 'user'\n"
     ]
    }
   ],
   "source": [
    "class Bank:\n",
    "    def __init__(self, user):\n",
    "        self._user = user\n",
    "\n",
    "bank = Bank('Candy')\n",
    "bank.user"
   ]
  },
  {
   "cell_type": "code",
   "execution_count": 69,
   "metadata": {},
   "outputs": [
    {
     "data": {
      "text/plain": [
       "'Candy'"
      ]
     },
     "execution_count": 69,
     "metadata": {},
     "output_type": "execute_result"
    }
   ],
   "source": [
    "class Bank:\n",
    "    def __init__(self, user):\n",
    "        self._user = user\n",
    "\n",
    "bank = Bank('Candy')\n",
    "bank._user"
   ]
  },
  {
   "cell_type": "code",
   "execution_count": 70,
   "metadata": {},
   "outputs": [
    {
     "ename": "AttributeError",
     "evalue": "'Bank' object has no attribute '__user'",
     "output_type": "error",
     "traceback": [
      "Traceback \u001b[1;36m(most recent call last)\u001b[0m:\n",
      "\u001b[1;36m  File \u001b[1;32m\"<ipython-input-70-dc295d869e99>\"\u001b[1;36m, line \u001b[1;32m6\u001b[1;36m, in \u001b[1;35m<module>\u001b[1;36m\u001b[0m\n\u001b[1;33m    bank.__user\u001b[0m\n",
      "\u001b[1;31mAttributeError\u001b[0m\u001b[1;31m:\u001b[0m 'Bank' object has no attribute '__user'\n"
     ]
    }
   ],
   "source": [
    "class Bank:\n",
    "    def __init__(self, user):\n",
    "        self.__user = user\n",
    "\n",
    "bank = Bank('Candy')\n",
    "bank.__user"
   ]
  },
  {
   "cell_type": "code",
   "execution_count": 71,
   "metadata": {},
   "outputs": [
    {
     "data": {
      "text/plain": [
       "'Candy'"
      ]
     },
     "execution_count": 71,
     "metadata": {},
     "output_type": "execute_result"
    }
   ],
   "source": [
    "class Bank:\n",
    "    def __init__(self, user):\n",
    "        self.__user = user\n",
    "\n",
    "bank = Bank('Candy')\n",
    "bank._Bank__user"
   ]
  },
  {
   "cell_type": "markdown",
   "metadata": {},
   "source": [
    "### "
   ]
  },
  {
   "cell_type": "markdown",
   "metadata": {},
   "source": [
    "### @property 來操作私有屬性"
   ]
  },
  {
   "cell_type": "code",
   "execution_count": 86,
   "metadata": {},
   "outputs": [
    {
     "name": "stdout",
     "output_type": "stream",
     "text": [
      "Jhon 1000000.0\n",
      "Jhonson 1000000.0\n"
     ]
    }
   ],
   "source": [
    "class Bank:\n",
    "    def __init__(self, user):\n",
    "        self.user = user\n",
    "        self.blanece = 1e6\n",
    "\n",
    "bank = Bank('Jhon')\n",
    "print(bank.user, bank.blanece)\n",
    "bank.user = 'Jhonson'\n",
    "print(bank.user, bank.blanece)"
   ]
  },
  {
   "cell_type": "code",
   "execution_count": 104,
   "metadata": {},
   "outputs": [
    {
     "name": "stdout",
     "output_type": "stream",
     "text": [
      "Jhon 1000000.0\n",
      "Jhonson 1000000.0\n"
     ]
    }
   ],
   "source": [
    "class Bank:\n",
    "    def __init__(self, user):\n",
    "        self._user = user\n",
    "        self.blanece = 1e6\n",
    "\n",
    "    \n",
    "    #----- 導入密碼功能並進行封裝 -----#\n",
    "    @property\n",
    "    def user(self):\n",
    "        return self._user\n",
    "\n",
    "    @user.setter\n",
    "    def set_user(self, user):\n",
    "        self._user = user\n",
    "\n",
    "bank = Bank('Jhon')\n",
    "print(bank.user, bank.blanece)\n",
    "bank.set_user = 'Jhonson'   # 需要透過set方法來設置，就能避免 私有屬性driver 直接被操作\n",
    "print(bank.user, bank.blanece)\n",
    "\n",
    "# bank._user = 'ppp'\n",
    "# print(bank.user, bank.blanece)"
   ]
  },
  {
   "cell_type": "code",
   "execution_count": null,
   "metadata": {},
   "outputs": [],
   "source": []
  },
  {
   "cell_type": "code",
   "execution_count": null,
   "metadata": {},
   "outputs": [],
   "source": []
  },
  {
   "cell_type": "markdown",
   "metadata": {},
   "source": [
    "## Extra"
   ]
  },
  {
   "cell_type": "markdown",
   "metadata": {},
   "source": [
    "partial 的功能：固定函數參數，返回一個新的函數。<br>\n",
    "當函數參數太多，需要固定某些參數時，可以使用functools.partial創建一個新的函數。"
   ]
  },
  {
   "cell_type": "code",
   "execution_count": 1,
   "metadata": {},
   "outputs": [
    {
     "name": "stdout",
     "output_type": "stream",
     "text": [
      "106\n",
      "\n"
     ]
    }
   ],
   "source": [
    "from functools import partial\n",
    "\n",
    "def add(*args):\n",
    "    return sum(args)\n",
    "\n",
    "add_100 = partial(add, 100)\n",
    "print(add_100(1, 2, 3))  # 106\n",
    "print()"
   ]
  },
  {
   "cell_type": "code",
   "execution_count": 6,
   "metadata": {},
   "outputs": [
    {
     "name": "stdout",
     "output_type": "stream",
     "text": [
      "0 <class 'function'> <function add at 0x000002E0A0946510>\n",
      "1 <class 'dict'> {'val': 101}\n",
      "2 <class 'tuple'> (1, 2, 3)\n",
      "3 <class 'tuple'> (1, 2, 3)\n",
      "107\n"
     ]
    }
   ],
   "source": [
    "class Add:\n",
    "    def __init__(self, Cls, **kwargs):\n",
    "        self.Cls = Cls\n",
    "        self.kwargs = kwargs\n",
    "        self.val = self.kwargs['val']\n",
    "        print(0, type(self.Cls), Cls)\n",
    "        print(1, type(self.kwargs), kwargs)\n",
    "        \n",
    "    def __call__(self, *args):\n",
    "        print(2, type(args), args)\n",
    "        return self.Cls(*args) + self.val\n",
    "add_101 = partial(Add, val=101)\n",
    "add_102 = partial(Add, val=102)\n",
    "\n",
    "\n",
    "# @add_102\n",
    "@add_101\n",
    "def add(*args):\n",
    "    print(3, type(args), args)\n",
    "    return sum(args)\n",
    "print(add(1, 2, 3))  # 107"
   ]
  },
  {
   "cell_type": "code",
   "execution_count": 113,
   "metadata": {},
   "outputs": [
    {
     "data": {
      "text/plain": [
       "6"
      ]
     },
     "execution_count": 113,
     "metadata": {},
     "output_type": "execute_result"
    }
   ],
   "source": [
    "sum((1, 2, 3))"
   ]
  },
  {
   "cell_type": "code",
   "execution_count": null,
   "metadata": {},
   "outputs": [],
   "source": []
  }
 ],
 "metadata": {
  "kernelspec": {
   "display_name": "Python 3 (Spyder)",
   "language": "python3",
   "name": "python3"
  },
  "language_info": {
   "codemirror_mode": {
    "name": "ipython",
    "version": 3
   },
   "file_extension": ".py",
   "mimetype": "text/x-python",
   "name": "python",
   "nbconvert_exporter": "python",
   "pygments_lexer": "ipython3",
   "version": "3.6.6"
  }
 },
 "nbformat": 4,
 "nbformat_minor": 4
}
