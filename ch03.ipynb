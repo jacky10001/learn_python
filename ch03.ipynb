{
 "cells": [
  {
   "cell_type": "markdown",
   "metadata": {},
   "source": [
    "# Learn Python"
   ]
  },
  {
   "cell_type": "markdown",
   "metadata": {},
   "source": [
    "### Python資料結構 列表(list)結構 及 字典(dict)結構"
   ]
  },
  {
   "cell_type": "markdown",
   "metadata": {},
   "source": [
    "列表(list)結構 及 字典(dict)結構，可將這種型態視為存取資料的「容器」。"
   ]
  },
  {
   "cell_type": "markdown",
   "metadata": {},
   "source": [
    "<p><img src=\"https://cdn.programiz.com/sites/tutorial2program/files/python-list-index.png\" width=\"40%\"></p>"
   ]
  },
  {
   "cell_type": "markdown",
   "metadata": {},
   "source": [
    "list主要是將資料照順序排列，取出時則以編號進行拿取。"
   ]
  },
  {
   "cell_type": "code",
   "execution_count": 1,
   "metadata": {},
   "outputs": [
    {
     "name": "stdout",
     "output_type": "stream",
     "text": [
      "<class 'list'> []\n"
     ]
    }
   ],
   "source": [
    "null_list = []\n",
    "print(type(null_list), null_list)"
   ]
  },
  {
   "cell_type": "code",
   "execution_count": 2,
   "metadata": {},
   "outputs": [
    {
     "name": "stdout",
     "output_type": "stream",
     "text": [
      "[0, 1, 2, 3, 4]\n"
     ]
    }
   ],
   "source": [
    "a_list = [0,1,2,3,4]\n",
    "print(a_list)"
   ]
  },
  {
   "cell_type": "markdown",
   "metadata": {},
   "source": [
    "###### \n",
    "可以藉由索引值(index)來讀取列表的資料"
   ]
  },
  {
   "cell_type": "code",
   "execution_count": 3,
   "metadata": {},
   "outputs": [
    {
     "name": "stdout",
     "output_type": "stream",
     "text": [
      "0\n",
      "3\n",
      "2\n"
     ]
    }
   ],
   "source": [
    "print(a_list[0])\n",
    "print(a_list[3])\n",
    "print(a_list[-3])"
   ]
  },
  {
   "cell_type": "code",
   "execution_count": 4,
   "metadata": {},
   "outputs": [
    {
     "name": "stdout",
     "output_type": "stream",
     "text": [
      "[5, 6, 7, 8, 9]\n"
     ]
    }
   ],
   "source": [
    "b_list = [5,6,7,8,9]\n",
    "print(b_list)"
   ]
  },
  {
   "cell_type": "code",
   "execution_count": 5,
   "metadata": {},
   "outputs": [
    {
     "data": {
      "text/plain": [
       "[0, 1, 2, 3, 4, 5, 6, 7, 8, 9]"
      ]
     },
     "execution_count": 5,
     "metadata": {},
     "output_type": "execute_result"
    }
   ],
   "source": [
    "a_list + b_list"
   ]
  },
  {
   "cell_type": "code",
   "execution_count": 6,
   "metadata": {},
   "outputs": [
    {
     "name": "stdout",
     "output_type": "stream",
     "text": [
      "[0, 1, 2, 3, 4]\n",
      "[5, 6, 7, 8, 9]\n",
      "[0, 1, 2, 3, 4, 5, 6, 7, 8, 9]\n"
     ]
    }
   ],
   "source": [
    "c_list = a_list + b_list\n",
    "print(a_list)\n",
    "print(b_list)\n",
    "print(c_list)"
   ]
  },
  {
   "cell_type": "code",
   "execution_count": 7,
   "metadata": {},
   "outputs": [
    {
     "name": "stdout",
     "output_type": "stream",
     "text": [
      "[0, 1, 2, 3, 4, 5.0, 6, 7, 8, 9]\n"
     ]
    }
   ],
   "source": [
    "c_list[5] = 5.0\n",
    "print(c_list)"
   ]
  },
  {
   "cell_type": "code",
   "execution_count": 8,
   "metadata": {},
   "outputs": [
    {
     "name": "stdout",
     "output_type": "stream",
     "text": [
      "[0, 1, 2, 3, '4', 5.0, 6, 7, 8, 9]\n"
     ]
    }
   ],
   "source": [
    "c_list[4] = '4'\n",
    "print(c_list)"
   ]
  },
  {
   "cell_type": "code",
   "execution_count": 9,
   "metadata": {},
   "outputs": [
    {
     "name": "stdout",
     "output_type": "stream",
     "text": [
      "[0, 1, 2, 3, '4', 5.0, 6, 7, True, 9]\n"
     ]
    }
   ],
   "source": [
    "c_list[8] = True\n",
    "print(c_list)"
   ]
  },
  {
   "cell_type": "code",
   "execution_count": 10,
   "metadata": {},
   "outputs": [
    {
     "name": "stdout",
     "output_type": "stream",
     "text": [
      "435345345 435345345\n"
     ]
    }
   ],
   "source": [
    "d_list = c_list\n",
    "d_list[0] = 435345345\n",
    "print(d_list[0], c_list[0])"
   ]
  },
  {
   "cell_type": "code",
   "execution_count": 11,
   "metadata": {},
   "outputs": [
    {
     "name": "stdout",
     "output_type": "stream",
     "text": [
      "0 0\n"
     ]
    }
   ],
   "source": [
    "c_list[0] = 0\n",
    "print(d_list[0], c_list[0])"
   ]
  },
  {
   "cell_type": "markdown",
   "metadata": {},
   "source": [
    "<p><img src=\"https://d2o2utebsixu4k.cloudfront.net/media/images/2b5d86c5-9517-475c-86ca-300a7c807c33.jpg\" width=\"40%\"></p>"
   ]
  },
  {
   "cell_type": "code",
   "execution_count": 12,
   "metadata": {},
   "outputs": [
    {
     "name": "stdout",
     "output_type": "stream",
     "text": [
      "435345345 0\n"
     ]
    }
   ],
   "source": [
    "d_list = c_list.copy()\n",
    "d_list[0] = 435345345\n",
    "print(d_list[0], c_list[0])"
   ]
  },
  {
   "cell_type": "code",
   "execution_count": 13,
   "metadata": {},
   "outputs": [
    {
     "name": "stdout",
     "output_type": "stream",
     "text": [
      "[435345345, 1, 2, 3, '4', 5.0, 6, 7, True, 9]\n",
      "\n",
      "9\n",
      "[435345345, 1, 2, 3, '4', 5.0, 6, 7, True]\n",
      "\n",
      "True\n",
      "[435345345, 1, 2, 3, '4', 5.0, 6, 7]\n"
     ]
    }
   ],
   "source": [
    "print(d_list)\n",
    "print()\n",
    "print(d_list.pop())\n",
    "print(d_list)\n",
    "print()\n",
    "print(d_list.pop())\n",
    "print(d_list)"
   ]
  },
  {
   "cell_type": "code",
   "execution_count": 14,
   "metadata": {},
   "outputs": [
    {
     "name": "stdout",
     "output_type": "stream",
     "text": [
      "[435345345, 1, 2, 3, '4', 5.0, 6, 7]\n",
      "[435345345, 1, 2, '4', 5.0, 6, 7]\n"
     ]
    }
   ],
   "source": [
    "print(d_list)\n",
    "d_list.remove(3)\n",
    "print(d_list)"
   ]
  },
  {
   "cell_type": "code",
   "execution_count": 15,
   "metadata": {},
   "outputs": [
    {
     "name": "stdout",
     "output_type": "stream",
     "text": [
      "Number of list: 9   Data: [435345345, 1, 2, '4', 5.0, 6, 7, 'append new', 'append new']\n",
      "Number of list: 8   Data: [435345345, 1, 2, '4', 5.0, 6, 7, 'append new']\n",
      "Number of list: 7   Data: [435345345, 1, 2, '4', 5.0, 6, 7]\n"
     ]
    }
   ],
   "source": [
    "d_list.append('append new')\n",
    "d_list.append('append new')\n",
    "print('Number of list:', len(d_list), '  Data:', d_list)\n",
    "\n",
    "d_list.remove('append new')\n",
    "print('Number of list:', len(d_list), '  Data:', d_list)\n",
    "\n",
    "d_list.remove('append new')\n",
    "print('Number of list:', len(d_list), '  Data:', d_list)"
   ]
  },
  {
   "cell_type": "markdown",
   "metadata": {},
   "source": [
    "### List 搭配冒號的用法"
   ]
  },
  {
   "cell_type": "code",
   "execution_count": 5,
   "metadata": {},
   "outputs": [
    {
     "name": "stdout",
     "output_type": "stream",
     "text": [
      "[0, 1, 2, 3, 4, 5, 6, 7, 8, 9]\n",
      "[9, 8, 7, 6, 5, 4, 3, 2, 1, 0]\n",
      "[5, 4, 3, 2, 1, 0]\n"
     ]
    }
   ],
   "source": [
    "a = [0,1,2,3,4,5,6,7,8,9]\n",
    "\n",
    "print(a[:])    # 取出全部 data\n",
    "\n",
    "print(a[::-1])    # 將全部 data 反序取出\n",
    "\n",
    "print(a[5::-1])    # 從指定的 index 開始，將剩餘 data 反序取出"
   ]
  },
  {
   "cell_type": "markdown",
   "metadata": {},
   "source": [
    "# "
   ]
  },
  {
   "cell_type": "markdown",
   "metadata": {},
   "source": [
    "dict是將每筆資料已對應的key進行存取的動作。"
   ]
  },
  {
   "cell_type": "code",
   "execution_count": 16,
   "metadata": {},
   "outputs": [
    {
     "name": "stdout",
     "output_type": "stream",
     "text": [
      "<class 'dict'> {}\n"
     ]
    }
   ],
   "source": [
    "null_dict = {}\n",
    "print(type(null_dict), null_dict)"
   ]
  },
  {
   "cell_type": "markdown",
   "metadata": {},
   "source": [
    "<p><img src=\"https://sites.google.com/site/ezpythoncolorcourse/_/rsrc/1518709996114/dict/fig19-04.png\" width=\"30%\"></p>"
   ]
  },
  {
   "cell_type": "code",
   "execution_count": 17,
   "metadata": {},
   "outputs": [
    {
     "name": "stdout",
     "output_type": "stream",
     "text": [
      "{1: [-100, 50], 2: 'ABCDE', 'abc': {60, 'Tom'}, (10, 20): 1000}\n",
      "ABCDE\n",
      "1000\n"
     ]
    }
   ],
   "source": [
    "dict_example = {\n",
    "    1: [-100, 50],\n",
    "    2: 'ABCDE',\n",
    "    'abc': {60,'Tom'},\n",
    "    (10,20): 1000\n",
    "}\n",
    "print(dict_example)\n",
    "print(dict_example[2])\n",
    "print(dict_example[(10,20)])"
   ]
  },
  {
   "cell_type": "markdown",
   "metadata": {},
   "source": [
    "###### \n",
    "菜單範例"
   ]
  },
  {
   "cell_type": "code",
   "execution_count": 18,
   "metadata": {},
   "outputs": [],
   "source": [
    "Menu = {}\n",
    "Menu['hamburger'] = 130\n",
    "Menu['pizza'] = 270\n",
    "Menu['sandwich'] = 100\n",
    "Menu['fry chicken'] = 90\n",
    "Menu['cola'] = 30\n",
    "Menu['tea'] = 25"
   ]
  },
  {
   "cell_type": "code",
   "execution_count": 19,
   "metadata": {},
   "outputs": [
    {
     "data": {
      "text/plain": [
       "{'hamburger': 130,\n",
       " 'pizza': 270,\n",
       " 'sandwich': 100,\n",
       " 'fry chicken': 90,\n",
       " 'cola': 30,\n",
       " 'tea': 25}"
      ]
     },
     "execution_count": 19,
     "metadata": {},
     "output_type": "execute_result"
    }
   ],
   "source": [
    "Menu"
   ]
  },
  {
   "cell_type": "code",
   "execution_count": 20,
   "metadata": {},
   "outputs": [
    {
     "name": "stdout",
     "output_type": "stream",
     "text": [
      "What do you want to eat?\n"
     ]
    },
    {
     "name": "stdin",
     "output_type": "stream",
     "text": [
      " tea\n"
     ]
    },
    {
     "name": "stdout",
     "output_type": "stream",
     "text": [
      "Please pay NTD 25.\n"
     ]
    }
   ],
   "source": [
    "print('What do you want to eat?')\n",
    "key = input()\n",
    "print('Please pay NTD %d.'%Menu[key])"
   ]
  },
  {
   "cell_type": "markdown",
   "metadata": {},
   "source": [
    "###### \n",
    "<p>\n",
    "    <img src=\"https://techvidvan.com/tutorials/wp-content/uploads/sites/2/2019/12/python-dictionary-methods.jpg\" width=\"30%\">\n",
    "<\\p>\n",
    "\n",
    "https://techvidvan.com/tutorials/python-dictionaries/"
   ]
  },
  {
   "cell_type": "code",
   "execution_count": 21,
   "metadata": {},
   "outputs": [
    {
     "data": {
      "text/plain": [
       "dict_keys(['hamburger', 'pizza', 'sandwich', 'fry chicken', 'cola', 'tea'])"
      ]
     },
     "execution_count": 21,
     "metadata": {},
     "output_type": "execute_result"
    }
   ],
   "source": [
    "Menu.keys()"
   ]
  },
  {
   "cell_type": "code",
   "execution_count": 22,
   "metadata": {},
   "outputs": [
    {
     "data": {
      "text/plain": [
       "dict_items([('hamburger', 130), ('pizza', 270), ('sandwich', 100), ('fry chicken', 90), ('cola', 30), ('tea', 25)])"
      ]
     },
     "execution_count": 22,
     "metadata": {},
     "output_type": "execute_result"
    }
   ],
   "source": [
    "Menu.items()"
   ]
  },
  {
   "cell_type": "code",
   "execution_count": 23,
   "metadata": {},
   "outputs": [
    {
     "name": "stdout",
     "output_type": "stream",
     "text": [
      "{0: 'a', 1: 'b', 2: 'c', 3: 'd'}\n"
     ]
    }
   ],
   "source": [
    "dict_var = {0:'a',\n",
    "            1:'b',\n",
    "            2:'c',\n",
    "            3:'d'}\n",
    "print(dict_var)"
   ]
  },
  {
   "cell_type": "code",
   "execution_count": 24,
   "metadata": {},
   "outputs": [
    {
     "data": {
      "text/plain": [
       "30"
      ]
     },
     "execution_count": 24,
     "metadata": {},
     "output_type": "execute_result"
    }
   ],
   "source": [
    "Menu.get('cola')"
   ]
  },
  {
   "cell_type": "code",
   "execution_count": 25,
   "metadata": {},
   "outputs": [
    {
     "name": "stdout",
     "output_type": "stream",
     "text": [
      "<class 'dict_values'> dict_values([130, 270, 100, 90, 30, 25])\n"
     ]
    }
   ],
   "source": [
    "Menu_values = Menu.values()\n",
    "print(type(Menu_values), Menu_values)"
   ]
  },
  {
   "cell_type": "markdown",
   "metadata": {},
   "source": [
    "# "
   ]
  },
  {
   "cell_type": "markdown",
   "metadata": {},
   "source": [
    "### extra: 建立陣列"
   ]
  },
  {
   "cell_type": "code",
   "execution_count": 26,
   "metadata": {},
   "outputs": [
    {
     "name": "stdout",
     "output_type": "stream",
     "text": [
      "The new created array is :  1 2 3 \n",
      "The new created array is :  2.5 3.2 3.3 "
     ]
    }
   ],
   "source": [
    "# importing \"array\" for array creations \n",
    "import array as arr \n",
    "\n",
    "# 整數陣列\n",
    "a = arr.array('i', [1, 2, 3])\n",
    "\n",
    "print (\"The new created array is : \", end =\" \") \n",
    "for i in range (0, 3): \n",
    "    print (a[i], end =\" \") \n",
    "print() \n",
    "\n",
    "# 浮點數陣列\n",
    "b = arr.array('d', [2.5, 3.2, 3.3]) \n",
    "\n",
    "print (\"The new created array is : \", end =\" \") \n",
    "for i in range (0, 3): \n",
    "    print (b[i], end =\" \") "
   ]
  },
  {
   "cell_type": "markdown",
   "metadata": {},
   "source": [
    "<p><img src=\"https://media.geeksforgeeks.org/wp-content/uploads/CommonArticleDesign2-min.png\" width=\"60%\"></p>"
   ]
  },
  {
   "cell_type": "code",
   "execution_count": 27,
   "metadata": {},
   "outputs": [
    {
     "ename": "TypeError",
     "evalue": "must be real number, not str",
     "output_type": "error",
     "traceback": [
      "Traceback \u001b[1;36m(most recent call last)\u001b[0m:\n",
      "\u001b[1;36m  File \u001b[1;32m\"<ipython-input-27-9e2fdc713453>\"\u001b[1;36m, line \u001b[1;32m2\u001b[1;36m, in \u001b[1;35m<module>\u001b[1;36m\u001b[0m\n\u001b[1;33m    b = arr.array('d', ['2.5', 3.2, 3.3])\u001b[0m\n",
      "\u001b[1;31mTypeError\u001b[0m\u001b[1;31m:\u001b[0m must be real number, not str\n"
     ]
    }
   ],
   "source": [
    "# 錯誤陣列\n",
    "b = arr.array('d', ['2.5', 3.2, 3.3]) \n",
    "\n",
    "print (\"The new created array is : \", end =\" \") \n",
    "for i in range (0, 3): \n",
    "    print (b[i], end =\" \") "
   ]
  },
  {
   "cell_type": "code",
   "execution_count": 28,
   "metadata": {},
   "outputs": [
    {
     "ename": "TypeError",
     "evalue": "integer argument expected, got float",
     "output_type": "error",
     "traceback": [
      "Traceback \u001b[1;36m(most recent call last)\u001b[0m:\n",
      "\u001b[1;36m  File \u001b[1;32m\"<ipython-input-28-9853c904cc39>\"\u001b[1;36m, line \u001b[1;32m2\u001b[1;36m, in \u001b[1;35m<module>\u001b[1;36m\u001b[0m\n\u001b[1;33m    b = arr.array('i', [2.5, 3.2, 3.3])\u001b[0m\n",
      "\u001b[1;31mTypeError\u001b[0m\u001b[1;31m:\u001b[0m integer argument expected, got float\n"
     ]
    }
   ],
   "source": [
    "# 錯誤陣列\n",
    "b = arr.array('i', [2.5, 3.2, 3.3]) \n",
    "\n",
    "print (\"The new created array is : \", end =\" \") \n",
    "for i in range (0, 3): \n",
    "    print (b[i], end =\" \") "
   ]
  },
  {
   "cell_type": "code",
   "execution_count": null,
   "metadata": {},
   "outputs": [],
   "source": []
  }
 ],
 "metadata": {
  "kernelspec": {
   "display_name": "Python 3 (Spyder)",
   "language": "python3",
   "name": "python3"
  },
  "language_info": {
   "codemirror_mode": {
    "name": "ipython",
    "version": 3
   },
   "file_extension": ".py",
   "mimetype": "text/x-python",
   "name": "python",
   "nbconvert_exporter": "python",
   "pygments_lexer": "ipython3",
   "version": "3.6.6"
  }
 },
 "nbformat": 4,
 "nbformat_minor": 4
}
